{
 "cells": [
  {
   "cell_type": "markdown",
   "metadata": {},
   "source": [
    "# Métodos de Monte Carlo"
   ]
  },
  {
   "cell_type": "markdown",
   "metadata": {},
   "source": [
    "Es el nombre que se le da a las técnicas que utilizan generación de métodos aleatorios para resolver problemas en la computadora."
   ]
  },
  {
   "cell_type": "markdown",
   "metadata": {},
   "source": [
    "# Números aleatorios"
   ]
  },
  {
   "cell_type": "markdown",
   "metadata": {},
   "source": [
    "¿Qué es _random_ ?¿Existe?"
   ]
  },
  {
   "cell_type": "markdown",
   "metadata": {},
   "source": [
    "Las personas batallan mucho para generar aleatoriedad por si mismas."
   ]
  },
  {
   "cell_type": "markdown",
   "metadata": {},
   "source": [
    "Las computadoras son máquinas deterministas."
   ]
  },
  {
   "cell_type": "markdown",
   "metadata": {},
   "source": [
    "Usaremos **números pseudo aleatorios**."
   ]
  },
  {
   "cell_type": "markdown",
   "metadata": {},
   "source": [
    "\n",
    "**Ejercicio** Programa el generador aleatorio de tipo [_linear congruential_](http://en.wikipedia.org/wiki/Linear_congruential_generator):\n",
    "    \n",
    "$$x_{n+1} = (a x_n + b) \\mod c$$\n",
    "\n",
    "Para que sea más fácil, utiliza el concepto de [`generators`](http://anandology.com/python-practice-book/iterators.html) de **Python**\n",
    "\n",
    "\n",
    "\n",
    "\n",
    "<div class=\"alert alert-info\">\n",
    "    \n",
    " **Ejercicio** ¿Cuál es la secuencia?\n",
    "</div>\n",
    "\n",
    "<div class=\"alert alert-info\">\n",
    "    \n",
    "**Ejercicio**  ¿De qué longitud es la secuencia? ¿Está relacionada con el valor de $c$? ¿Cómo?\n",
    "</div>\n",
    "\n"
   ]
  },
  {
   "cell_type": "code",
   "execution_count": 3,
   "metadata": {},
   "outputs": [
    {
     "name": "stdout",
     "output_type": "stream",
     "text": [
      "Populating the interactive namespace from numpy and matplotlib\n"
     ]
    },
    {
     "name": "stderr",
     "output_type": "stream",
     "text": [
      "/opt/conda/lib/python3.9/site-packages/IPython/core/magics/pylab.py:159: UserWarning: pylab import has clobbered these variables: ['random']\n",
      "`%matplotlib` prevents importing * from pylab and numpy\n",
      "  warn(\"pylab import has clobbered these variables: %s\"  % clobbered +\n"
     ]
    }
   ],
   "source": [
    "%pylab inline\n",
    "import numpy as np\n",
    "import matplotlib.pyplot as plt"
   ]
  },
  {
   "cell_type": "code",
   "execution_count": 126,
   "metadata": {},
   "outputs": [],
   "source": [
    "def pseudo_random_number_generator(seed, a, b, c):\n",
    "    seed = (a*seed +b ) % c\n",
    "    while True:\n",
    "        yield seed\n",
    "        seed =  (a*seed+b)%c"
   ]
  },
  {
   "cell_type": "code",
   "execution_count": null,
   "metadata": {},
   "outputs": [],
   "source": []
  },
  {
   "cell_type": "code",
   "execution_count": 141,
   "metadata": {},
   "outputs": [],
   "source": [
    "b= pseudo_random_number_generator(108683,1234567890,987654321,12345678987654321)"
   ]
  },
  {
   "cell_type": "code",
   "execution_count": 142,
   "metadata": {},
   "outputs": [
    {
     "data": {
      "text/plain": [
       "134177529643191"
      ]
     },
     "execution_count": 142,
     "metadata": {},
     "output_type": "execute_result"
    }
   ],
   "source": [
    "next(b)"
   ]
  },
  {
   "cell_type": "code",
   "execution_count": null,
   "metadata": {},
   "outputs": [],
   "source": []
  },
  {
   "cell_type": "markdown",
   "metadata": {},
   "source": [
    "<div class=\"alert alert-info\">\n",
    "    \n",
    "**Ejercicio** En los 70's fuéron muy populares los coeficientes [**RANDU**](http://en.wikipedia.org/wiki/RANDU), pero se demostró que fallaban miserablemente las pruebas de aleatoriedad, en particular los tripletes de números consecutivos caen en uno de 15 planos paralelos... Dibuja los primeros 100,000 tripletes y reproduce la imagen de la wikipedia.\n",
    "</div>"
   ]
  },
  {
   "cell_type": "markdown",
   "metadata": {},
   "source": [
    "Afortunadamente (por lo menos para los fines de este curso) `python` incluye un generador llamado [**Mersenne Twister**](http://en.wikipedia.org/wiki/Mersenne_twister), el cual podemos usar si importamos la biblioteca `random`"
   ]
  },
  {
   "cell_type": "code",
   "execution_count": 1,
   "metadata": {},
   "outputs": [],
   "source": [
    "import random"
   ]
  },
  {
   "cell_type": "markdown",
   "metadata": {},
   "source": [
    "# Integración de Monte Carlo"
   ]
  },
  {
   "cell_type": "markdown",
   "metadata": {},
   "source": [
    "Una técnica de **Monte Carlo** es la integración, el algoritmo es muy simple:\n",
    "\n",
    "_Recuerda que la integración devuelve el_ **área** _de una figura._\n",
    "\n",
    "1. Rodea el objeto al cual le quieres calcular el área con una figura de la cual conozcas el área (un rectángulo si es de dos dimensiones) y\n",
    "2. Genera un número muy grande de puntos al azar dentro de la figura de la cual conoces el área.\n",
    "3. El área del objeto es aproximadamente la fracción de puntos que cayeron dentro del objeto multiplicada por el área del objeto que la rodea."
   ]
  },
  {
   "cell_type": "markdown",
   "metadata": {},
   "source": [
    "### Ejemplo: Calcular el volumen de una esfera de radio $r = 1$"
   ]
  },
  {
   "cell_type": "markdown",
   "metadata": {},
   "source": [
    "Podemos usar la simetría del problema y concentrarnos en un cuadrante y luego multiplicar por $8$ el resultado. Usemos como figura que conocemos un cubo de lado $1$.\n"
   ]
  },
  {
   "cell_type": "code",
   "execution_count": 38,
   "metadata": {},
   "outputs": [],
   "source": [
    "volumen_cubo = 2 * 2 * 2 \n",
    "\n",
    "N = 100000\n",
    "count = 0\n",
    "for j in range(N):\n",
    "    point = np.array([2*random.random()-1, 2*random.random()-1, 2*random.random()-1])  # Un punto al azar, random() genera valores entre 0-1\n",
    "    if sum(point**2) < 1:  # x^2 + y^2 + z^2 < 1 ¿Esta dentro?\n",
    "        count = count + 1\n",
    "        \n",
    "fraccion = float(count)/float(N)\n",
    "\n",
    "volumen = fraccion * volumen_cubo\n",
    "\n",
    "volumen_esfera = volumen"
   ]
  },
  {
   "cell_type": "markdown",
   "metadata": {},
   "source": [
    "El volumen de la esfera se puede calcular analiticamente y es igual a \n",
    "\n",
    "$$\n",
    "V = \\frac{4}{3} \\pi r^3\n",
    "$$"
   ]
  },
  {
   "cell_type": "code",
   "execution_count": 39,
   "metadata": {},
   "outputs": [
    {
     "data": {
      "text/plain": [
       "4.17664"
      ]
     },
     "execution_count": 39,
     "metadata": {},
     "output_type": "execute_result"
    }
   ],
   "source": [
    "volumen_esfera"
   ]
  },
  {
   "cell_type": "code",
   "execution_count": 12,
   "metadata": {},
   "outputs": [
    {
     "data": {
      "text/plain": [
       "4.1887902047863905"
      ]
     },
     "execution_count": 12,
     "metadata": {},
     "output_type": "execute_result"
    }
   ],
   "source": [
    "volumen = (4.0/3)*math.pi \n",
    "volumen"
   ]
  },
  {
   "cell_type": "markdown",
   "metadata": {},
   "source": [
    "<div class=\"alert alert-info\">\n",
    "    \n",
    "**Ejercicio** Calcula \n",
    "\n",
    "$$\n",
    "I = \\int_0^\\pi \\sin x dx\n",
    "$$\n",
    "\n",
    "Usando técnicas de Monte Carlo. Compara con el resultado analítico.\n",
    "</div>"
   ]
  },
  {
   "cell_type": "code",
   "execution_count": null,
   "metadata": {},
   "outputs": [],
   "source": [
    "area_cubo = 1 * np.pi\n",
    "\n",
    "N = 1000000\n",
    "count = 0\n",
    "for j in range(N):\n",
    "    point = np.array([random.random()*np.pi, random.random()])  # Un punto al azar, random() genera valores entre 0-1\n",
    "    if np.sin(point[0]) > point[1]:  # x^2 + y^2 + z^2 < 1 ¿Esta dentro?\n",
    "        count = count + 1\n",
    "        \n",
    "fraccion = float(count)/float(N)\n",
    "\n",
    "area = fraccion * area_cubo\n",
    "\n",
    "area "
   ]
  },
  {
   "cell_type": "markdown",
   "metadata": {},
   "source": [
    "<div class=\"alert alert-info\">\n",
    "    \n",
    "**Ejercicio** Encuentra el volumen de la intersección de una esfera y un cilindro. La esfera tiene $r = 1$ y está centrada en el origen. El cilindro tiene radio $r = 0.5$ y su eje es perpendicular al eje $x$ y pasa por el punto $(0.5, 0, 0)$.\n",
    "</div>"
   ]
  },
  {
   "cell_type": "code",
   "execution_count": 34,
   "metadata": {},
   "outputs": [
    {
     "data": {
      "text/plain": [
       "1.2038972"
      ]
     },
     "execution_count": 34,
     "metadata": {},
     "output_type": "execute_result"
    }
   ],
   "source": [
    "area_cubo = 1 * 1 * 1\n",
    "\n",
    "N = 10000000\n",
    "count = 0\n",
    "for j in range(N):\n",
    "    point = np.array([random.random(), random.random(), random.random()])  # Un punto al azar, random() genera valores entre 0-1\n",
    "    if sum(point**2)<1 and (point[0]-0.5)**2 + point[1]**2 < 0.25:  # x^2 + y^2 + z^2 < 1 ¿Esta dentro?\n",
    "        count = count + 1\n",
    "        \n",
    "fraccion = float(count)/float(N)\n",
    "\n",
    "area = fraccion * area_cubo\n",
    "\n",
    "area*4"
   ]
  },
  {
   "cell_type": "code",
   "execution_count": 31,
   "metadata": {},
   "outputs": [
    {
     "data": {
      "text/plain": [
       "array([0.17614207, 0.01999892])"
      ]
     },
     "execution_count": 31,
     "metadata": {},
     "output_type": "execute_result"
    }
   ],
   "source": []
  },
  {
   "cell_type": "code",
   "execution_count": null,
   "metadata": {},
   "outputs": [],
   "source": []
  }
 ],
 "metadata": {
  "kernelspec": {
   "display_name": "Python 3 (ipykernel)",
   "language": "python",
   "name": "python3"
  },
  "language_info": {
   "codemirror_mode": {
    "name": "ipython",
    "version": 3
   },
   "file_extension": ".py",
   "mimetype": "text/x-python",
   "name": "python",
   "nbconvert_exporter": "python",
   "pygments_lexer": "ipython3",
   "version": "3.9.6"
  }
 },
 "nbformat": 4,
 "nbformat_minor": 1
}
