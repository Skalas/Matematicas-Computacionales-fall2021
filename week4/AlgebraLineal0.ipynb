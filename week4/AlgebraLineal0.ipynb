{
 "cells": [
  {
   "cell_type": "markdown",
   "id": "ae179470",
   "metadata": {},
   "source": [
    "# Álgebra Lineal\n",
    "\n",
    "Fátima Ginebra"
   ]
  },
  {
   "cell_type": "code",
   "execution_count": null,
   "id": "6873a53f",
   "metadata": {},
   "outputs": [],
   "source": [
    "%pylab inline\n",
    "import numpy as np\n",
    "import matplotlib.pyplot as plt\n",
    "from scipy import linalg# Biblioteca para algebra lineal"
   ]
  },
  {
   "cell_type": "markdown",
   "id": "ab0c5d0d",
   "metadata": {},
   "source": [
    "## Álgebra de Matrices"
   ]
  },
  {
   "cell_type": "markdown",
   "id": "97ef6dcc",
   "metadata": {},
   "source": [
    "Los arreglos de **numpy** no se comportan como las _matrices_ de sus clases de algebra lineal.\n",
    "\n",
    "En lugar de ello, hacen _broadcasting_, como hemos visto en las clases pasadas. Recordemos que _broadcasting_ es mapear las operaciones a cada uno de los elementos del arreglo (_array_).\n",
    "\n",
    "¿Pero que pasa si queremos hacer operaciones matriciales? Bueno, **numpy** nos ofrece las siguientes opciones.\n",
    "\n",
    "Definamos el arreglo $\\textbf{A}$"
   ]
  },
  {
   "cell_type": "code",
   "execution_count": null,
   "id": "8a2f9f6d",
   "metadata": {},
   "outputs": [],
   "source": [
    "A = array([[n+m*10 for n in range(1,5)] for m in range(1,5)])"
   ]
  },
  {
   "cell_type": "markdown",
   "id": "454e6bf2",
   "metadata": {},
   "source": [
    "El arreglo $\\textbf{A}$, es eso, un arreglo (_array_), es el mismo objeto que hemos visto con anterioridad. **Numpy** soporta (en beneficio de los usuarios de `matlab`/`GNU Octave`) el objeto `matrix`. Sin embargo: https://numpy.org/doc/stable/reference/generated/numpy.matrix.html\n",
    "\n",
    "Tomaron la decisión de migrar todo lo necesario a sólo `np.array()`"
   ]
  },
  {
   "cell_type": "markdown",
   "id": "7b9b42ce",
   "metadata": {},
   "source": [
    "<div class=\"alert alert-warning\">\n",
    "    \n",
    "Como probablemente en un futuro se topen con cosas de `matlab / GNU Octave` les recomiendo esta [liga](http://wiki.scipy.org/NumPy_for_Matlab_Users)\n",
    "</div>"
   ]
  },
  {
   "cell_type": "markdown",
   "id": "e7abcb01",
   "metadata": {},
   "source": [
    "Nada nuevo en cuanto las dimensiones de $\\textbf{A}$:"
   ]
  },
  {
   "cell_type": "code",
   "execution_count": null,
   "id": "200bad5e",
   "metadata": {},
   "outputs": [],
   "source": [
    "print(A.shape)"
   ]
  },
  {
   "cell_type": "markdown",
   "id": "6b6d40a0",
   "metadata": {},
   "source": [
    "Pero recordemos que cuando hacemos slicing nos regresa arreglos unidimensionales, no vectores... :/"
   ]
  },
  {
   "cell_type": "code",
   "execution_count": null,
   "id": "4153d310",
   "metadata": {},
   "outputs": [],
   "source": [
    "y = A[:,0]\n",
    "print(y)\n",
    "print(y.shape)"
   ]
  },
  {
   "cell_type": "markdown",
   "id": "a8d2f449",
   "metadata": {},
   "source": [
    "Sin embargo podemos modificar ligeramente el código para que nos regrese un array vertical unidimensional: "
   ]
  },
  {
   "cell_type": "code",
   "execution_count": null,
   "id": "a55bfcce",
   "metadata": {},
   "outputs": [],
   "source": [
    "y = A[:,:1]\n",
    "print(y)\n",
    "print(y.shape)"
   ]
  },
  {
   "cell_type": "markdown",
   "id": "4f7b0182",
   "metadata": {},
   "source": [
    "Podemos hacer todo tipo de operaciones con los arrays, y a partir de python 3.5, podemos usar el operador `@`, para multiplicar. "
   ]
  },
  {
   "cell_type": "code",
   "execution_count": null,
   "id": "03f04213",
   "metadata": {},
   "outputs": [],
   "source": [
    "np.dot(A,y)"
   ]
  },
  {
   "cell_type": "code",
   "execution_count": null,
   "id": "73650cef",
   "metadata": {},
   "outputs": [],
   "source": [
    "A@y"
   ]
  },
  {
   "cell_type": "markdown",
   "id": "7d9e8996",
   "metadata": {},
   "source": [
    "Ahora intentémoslo al revés: "
   ]
  },
  {
   "cell_type": "code",
   "execution_count": null,
   "id": "20cf9b95",
   "metadata": {},
   "outputs": [],
   "source": [
    "y@A"
   ]
  },
  {
   "cell_type": "markdown",
   "id": "a567cc67",
   "metadata": {},
   "source": [
    "<div class=\"alert alert-info\">\n",
    "    \n",
    "**Ejercicio** ¿Por qué no funcionó?\n",
    "</div>"
   ]
  },
  {
   "cell_type": "code",
   "execution_count": null,
   "id": "e621bced",
   "metadata": {},
   "outputs": [],
   "source": [
    "y.T"
   ]
  },
  {
   "cell_type": "code",
   "execution_count": null,
   "id": "41688896",
   "metadata": {},
   "outputs": [],
   "source": [
    "A.T"
   ]
  },
  {
   "cell_type": "code",
   "execution_count": null,
   "id": "59600235",
   "metadata": {},
   "outputs": [],
   "source": [
    "y.T@A@y"
   ]
  },
  {
   "cell_type": "code",
   "execution_count": null,
   "id": "21e40977",
   "metadata": {},
   "outputs": [],
   "source": [
    "A@A"
   ]
  },
  {
   "cell_type": "code",
   "execution_count": null,
   "id": "c3a5f236",
   "metadata": {},
   "outputs": [],
   "source": [
    "n=2\n",
    "np.linalg.matrix_power(A,n) # A^n"
   ]
  },
  {
   "cell_type": "code",
   "execution_count": null,
   "id": "b7b6c144",
   "metadata": {},
   "outputs": [],
   "source": [
    "Id = np.identity(4)\n",
    "Id"
   ]
  },
  {
   "cell_type": "markdown",
   "id": "2853eef1",
   "metadata": {},
   "source": [
    "### Soluciones de sistemas de ecuaciones"
   ]
  },
  {
   "cell_type": "markdown",
   "id": "2ac3b1b5",
   "metadata": {},
   "source": [
    "Los sistemas de ecuaciones lineales se pueden plantear como un problema matricial, del tipo $\\textbf{A}\\textbf{x} = \\textbf{B}$, por ejemplo:"
   ]
  },
  {
   "cell_type": "markdown",
   "id": "6757d4bd",
   "metadata": {},
   "source": [
    "$3x + 6y -5z = 12$\n",
    "\n",
    "$x - 3y + 2z = -2$\n",
    "\n",
    "$5x -y + 4z = 10$"
   ]
  },
  {
   "cell_type": "markdown",
   "id": "0f538ae3",
   "metadata": {},
   "source": [
    "La solución de las ecuaciones matriciales $\\textbf{A}\\textbf{x} = \\textbf{b}$, es $\\textbf{x} = \\textbf{A}^{-1}\\textbf{b}$ (Si la matriz $\\textbf{A}$ es invertible, claro está)"
   ]
  },
  {
   "cell_type": "code",
   "execution_count": null,
   "id": "d745316d",
   "metadata": {},
   "outputs": [],
   "source": [
    "A = np.array([[3,6,-5],\n",
    "              [1,-3,2],\n",
    "              [5,-1,4]])\n",
    "A"
   ]
  },
  {
   "cell_type": "code",
   "execution_count": null,
   "id": "90181545",
   "metadata": {},
   "outputs": [],
   "source": [
    "b = np.array([[12],\n",
    "               [-2],\n",
    "               [10]])\n",
    "b"
   ]
  },
  {
   "cell_type": "code",
   "execution_count": null,
   "id": "fc1272c1",
   "metadata": {},
   "outputs": [],
   "source": [
    "x = np.linalg.matrix_power(A,-1)@b\n",
    "print(x)"
   ]
  },
  {
   "cell_type": "code",
   "execution_count": null,
   "id": "574ea26a",
   "metadata": {},
   "outputs": [],
   "source": [
    "A@x"
   ]
  },
  {
   "cell_type": "markdown",
   "id": "6e75e124",
   "metadata": {},
   "source": [
    "<div class=\"alert alert-danger\">\n",
    "    Es importante tener en mente que las matrices generalmente no son invertibles, por lo que este método de solución, no siempre funciona. \n",
    "</div>"
   ]
  },
  {
   "cell_type": "markdown",
   "id": "f9d354ce",
   "metadata": {},
   "source": [
    "<div class=\"alert alert-danger\">\n",
    "El invertir matrices es un proceso largo y pesado que además puede ser demasiado cálculo para lo que se requiere. \n",
    "</div>"
   ]
  },
  {
   "cell_type": "markdown",
   "id": "8c171637",
   "metadata": {},
   "source": [
    "Lo mejor cuando estamos resolviendo sistemas de ecuaciones y en general casi siempre que se \"requiere\" una inversa es resolver el sistema de ecuaciones lineales: "
   ]
  },
  {
   "cell_type": "code",
   "execution_count": null,
   "id": "ea7495c6",
   "metadata": {},
   "outputs": [],
   "source": [
    "x = linalg.solve(A,b)\n",
    "A@x"
   ]
  },
  {
   "cell_type": "markdown",
   "id": "4f4a1068",
   "metadata": {},
   "source": [
    "## Transformaciones"
   ]
  },
  {
   "cell_type": "code",
   "execution_count": null,
   "id": "d7f5de26",
   "metadata": {},
   "outputs": [],
   "source": [
    "C = np.array([[1j, 2j], [3j, 4j]])\n",
    "C"
   ]
  },
  {
   "cell_type": "markdown",
   "id": "2391eac7",
   "metadata": {},
   "source": [
    "El conjugado de una matriz compleja $\\textbf{C}$"
   ]
  },
  {
   "cell_type": "code",
   "execution_count": null,
   "id": "267d604e",
   "metadata": {},
   "outputs": [],
   "source": [
    "conjugate(C)"
   ]
  },
  {
   "cell_type": "markdown",
   "id": "6c7ff070",
   "metadata": {},
   "source": [
    "El hermitiano de una matriz ( es decir, conjugado y transpuesta)"
   ]
  },
  {
   "cell_type": "code",
   "execution_count": null,
   "id": "2652efd0",
   "metadata": {},
   "outputs": [],
   "source": [
    "conjugate(C).T"
   ]
  },
  {
   "cell_type": "markdown",
   "id": "576ffc2e",
   "metadata": {},
   "source": [
    "El hermitiano de una matríz real (Como $\\textbf{A}$) es simplemente la transpuesta"
   ]
  },
  {
   "cell_type": "code",
   "execution_count": null,
   "id": "92c3700c",
   "metadata": {},
   "outputs": [],
   "source": [
    "conjugate(A).T"
   ]
  },
  {
   "cell_type": "markdown",
   "id": "e316c669",
   "metadata": {},
   "source": [
    "La parte $\\Re$ e $\\Im$ de una matriz se pueden extraer:"
   ]
  },
  {
   "cell_type": "code",
   "execution_count": null,
   "id": "49915342",
   "metadata": {},
   "outputs": [],
   "source": [
    "real(C)"
   ]
  },
  {
   "cell_type": "code",
   "execution_count": null,
   "id": "16edf410",
   "metadata": {},
   "outputs": [],
   "source": [
    "imag(C)"
   ]
  },
  {
   "cell_type": "markdown",
   "id": "190d9e52",
   "metadata": {},
   "source": [
    "La inversa de una matriz, (**si existe**):"
   ]
  },
  {
   "cell_type": "code",
   "execution_count": null,
   "id": "cf544e03",
   "metadata": {},
   "outputs": [],
   "source": [
    "inv(C)"
   ]
  },
  {
   "cell_type": "code",
   "execution_count": null,
   "id": "0ae0424e",
   "metadata": {},
   "outputs": [],
   "source": [
    "np.linalg.matrix_power(C,-1)"
   ]
  },
  {
   "cell_type": "code",
   "execution_count": null,
   "id": "7ebd21c9",
   "metadata": {},
   "outputs": [],
   "source": [
    "inv(C)@C"
   ]
  },
  {
   "cell_type": "markdown",
   "id": "f5f457e7",
   "metadata": {},
   "source": [
    "## Determinantes "
   ]
  },
  {
   "cell_type": "code",
   "execution_count": null,
   "id": "bc875cae",
   "metadata": {},
   "outputs": [],
   "source": [
    "A = np.array([[1,2],[3,4]])\n",
    "A"
   ]
  },
  {
   "cell_type": "code",
   "execution_count": null,
   "id": "5bfd4970",
   "metadata": {},
   "outputs": [],
   "source": [
    "linalg.det(A)"
   ]
  },
  {
   "cell_type": "code",
   "execution_count": null,
   "id": "cd28a8ac",
   "metadata": {},
   "outputs": [],
   "source": [
    "B = np.arange(1,10).reshape(3,3)\n",
    "det(B)"
   ]
  },
  {
   "cell_type": "markdown",
   "id": "f1eccb1e",
   "metadata": {},
   "source": [
    "<div class=\"alert alert-info\">\n",
    "Sean las matrices $\\textbf{A}$ y $\\textbf{B}$ definidas abajo, compruebe las propiedades $1-6$ de los determinantes como se muestran en la página de la [Wikipedia](http://en.wikipedia.org/wiki/Determinant)\n",
    "</div>"
   ]
  },
  {
   "cell_type": "code",
   "execution_count": null,
   "id": "d3cf74de",
   "metadata": {},
   "outputs": [],
   "source": [
    "A = np.array([[-2,2,-3],\n",
    "               [-1,1,3],\n",
    "               [2,0,-1]])\n",
    "print(A)"
   ]
  },
  {
   "cell_type": "code",
   "execution_count": null,
   "id": "463d1f4f",
   "metadata": {},
   "outputs": [],
   "source": [
    "B = np.array([[5, -3, 2],\n",
    "               [1,0,2],\n",
    "               [2,-1,3]])\n",
    "print(B)"
   ]
  },
  {
   "cell_type": "markdown",
   "id": "67fbbc55",
   "metadata": {},
   "source": [
    "<div class=\"alert alert-info\">\n",
    "    \n",
    "**Ejercicio**: Resuelva el sistema de ecuaciones lineales mostrado anteriormente, pero usando la [**Regla de Cramer**](http://en.wikipedia.org/wiki/Cramer's_rule)\n",
    "</div>"
   ]
  },
  {
   "cell_type": "markdown",
   "id": "359e24e2",
   "metadata": {},
   "source": [
    "El módulo `scipy.linalg` permite la creación de matrices especiales, tales como matrices diagonales de bloques `block_diag`, matrices circulantes `circulant`, matrices _companion_ (`companion`), matrices de Hadamard (`hadamard`), Hankel (`hankel`), Hilbert (`hilbert`), Hilbert invertida (`invhilbert`), Leslie (`leslie`), Toeplitz (`toeplitz`) y matrices triangulares (`tri`, `tril`, `triu`)."
   ]
  },
  {
   "cell_type": "code",
   "execution_count": null,
   "id": "5da7ea6d",
   "metadata": {},
   "outputs": [],
   "source": [
    "linalg.circulant([1,2,3])"
   ]
  },
  {
   "cell_type": "markdown",
   "id": "03659bfd",
   "metadata": {},
   "source": [
    "### Eigenvalores y eigenvectores"
   ]
  },
  {
   "cell_type": "markdown",
   "id": "7f368449",
   "metadata": {},
   "source": [
    "El cálculo de _eigenvectores_ y _eigenvalores_ es uno de los más complicados (y útiles) a realizarse en matrices cuadradas. **SciPy** posee varias rutinas para calcularlas:\n",
    "\n",
    "- `eigvals`\n",
    "\n",
    "- `eigvalsh`\n",
    "\n",
    "- `eigvals_banded`\n",
    "\n",
    "Y los respectivos métodos para _eigenvectores_: `eig`, `eigh` y `eigh_banded`."
   ]
  },
  {
   "cell_type": "markdown",
   "id": "ed38d915",
   "metadata": {},
   "source": [
    "<div class=\"alert alert-info\">\n",
    "    \n",
    "**Ejercicio:** Calcule los _eigenvectores_ e _eigenvalores_ de las siguientes matrices usando los diferentes métodos.\n",
    "\n",
    "- $$ A =  \\left[\\begin{matrix} 4 & 6 & 4\\\\-2 & -3 & -4\\\\0 & 0 & 2\\end{matrix}\\right] $$\n",
    "\n",
    "- $$ B = \\left[\\begin{matrix} 1 & 2 & 0\\\\0 & 1 & 2\\\\0 & 0 & 1\\end{matrix}\\right] $$\n",
    "\n",
    "**NOTA** Si es posible, utilice los métodos de creación de matrices especiales.\n",
    "\n",
    "</div>"
   ]
  },
  {
   "cell_type": "markdown",
   "id": "2ee1ab29",
   "metadata": {},
   "source": [
    "## Normas matriciales."
   ]
  },
  {
   "cell_type": "markdown",
   "id": "e70de235",
   "metadata": {},
   "source": [
    "Scipy también nos puede calcular diferentes normas matriciales y vectoriales: "
   ]
  },
  {
   "cell_type": "code",
   "execution_count": null,
   "id": "4f6cc4f0",
   "metadata": {},
   "outputs": [],
   "source": [
    "np.linalg.norm([1,1,1,1])"
   ]
  },
  {
   "cell_type": "code",
   "execution_count": null,
   "id": "3e75f75b",
   "metadata": {},
   "outputs": [],
   "source": [
    "np.linalg.norm([1,1,1,1], np.inf)"
   ]
  },
  {
   "cell_type": "code",
   "execution_count": null,
   "id": "6f644268",
   "metadata": {},
   "outputs": [],
   "source": [
    "A"
   ]
  },
  {
   "cell_type": "code",
   "execution_count": null,
   "id": "bd0ed9af",
   "metadata": {},
   "outputs": [],
   "source": [
    "np.linalg.norm(A, 'fro')"
   ]
  },
  {
   "cell_type": "code",
   "execution_count": null,
   "id": "62774ca0",
   "metadata": {},
   "outputs": [],
   "source": [
    "np.linalg.norm(A, -np.inf)"
   ]
  },
  {
   "cell_type": "markdown",
   "id": "27a6a6c4",
   "metadata": {},
   "source": [
    "## Algebra Lineal Simbólica"
   ]
  },
  {
   "cell_type": "markdown",
   "id": "acef12cc",
   "metadata": {},
   "source": [
    "Es posible manipular algebraicamente a matrices de expresiones simbólicas, usando la clase de `Matrix` de **SimPy** . "
   ]
  },
  {
   "cell_type": "code",
   "execution_count": 2,
   "id": "3245d02d",
   "metadata": {},
   "outputs": [],
   "source": [
    "from ipywidgets import interact\n",
    "from IPython.display import display"
   ]
  },
  {
   "cell_type": "markdown",
   "id": "5a9a5549",
   "metadata": {},
   "source": [
    "<div class=\"alert alert-danger\">\n",
    "    \n",
    "Cuando se trabaja con **Sympy** **no** se puede usar  `%pylab inline` ya que `%pylab%` importa variables que entraran en conflicto con **Sympy**. Es mejor usar, `%matplotlib inline` e importar `numpy` y `matplotlib`.\n",
    "</div>"
   ]
  },
  {
   "cell_type": "code",
   "execution_count": 4,
   "id": "90f0622e",
   "metadata": {},
   "outputs": [],
   "source": [
    "%matplotlib inline\n",
    "import numpy as np\n",
    "import matplotlib.pyplot as plt"
   ]
  },
  {
   "cell_type": "code",
   "execution_count": 6,
   "id": "50c17525",
   "metadata": {},
   "outputs": [
    {
     "ename": "ModuleNotFoundError",
     "evalue": "No module named 'sympy'",
     "output_type": "error",
     "traceback": [
      "\u001b[0;31m---------------------------------------------------------------------------\u001b[0m",
      "\u001b[0;31mModuleNotFoundError\u001b[0m                       Traceback (most recent call last)",
      "\u001b[0;32m/var/folders/rd/0m6n9v7j50s1khxpd4jn6mmr0000gs/T/ipykernel_32340/15813589.py\u001b[0m in \u001b[0;36m<module>\u001b[0;34m\u001b[0m\n\u001b[0;32m----> 1\u001b[0;31m \u001b[0;32mfrom\u001b[0m \u001b[0msympy\u001b[0m \u001b[0;32mimport\u001b[0m \u001b[0;34m*\u001b[0m\u001b[0;34m\u001b[0m\u001b[0;34m\u001b[0m\u001b[0m\n\u001b[0m",
      "\u001b[0;31mModuleNotFoundError\u001b[0m: No module named 'sympy'"
     ]
    }
   ],
   "source": [
    "from sympy import *"
   ]
  },
  {
   "cell_type": "code",
   "execution_count": 7,
   "id": "6c61889d",
   "metadata": {},
   "outputs": [
    {
     "ename": "NameError",
     "evalue": "name 'init_printing' is not defined",
     "output_type": "error",
     "traceback": [
      "\u001b[0;31m---------------------------------------------------------------------------\u001b[0m",
      "\u001b[0;31mNameError\u001b[0m                                 Traceback (most recent call last)",
      "\u001b[0;32m/var/folders/rd/0m6n9v7j50s1khxpd4jn6mmr0000gs/T/ipykernel_32340/1743277204.py\u001b[0m in \u001b[0;36m<module>\u001b[0;34m\u001b[0m\n\u001b[0;32m----> 1\u001b[0;31m \u001b[0minit_printing\u001b[0m\u001b[0;34m(\u001b[0m\u001b[0muse_latex\u001b[0m\u001b[0;34m=\u001b[0m\u001b[0;34m'mathjax'\u001b[0m\u001b[0;34m)\u001b[0m\u001b[0;34m\u001b[0m\u001b[0;34m\u001b[0m\u001b[0m\n\u001b[0m",
      "\u001b[0;31mNameError\u001b[0m: name 'init_printing' is not defined"
     ]
    }
   ],
   "source": [
    "init_printing(use_latex='mathjax')"
   ]
  },
  {
   "cell_type": "code",
   "execution_count": 2,
   "id": "725a1d73",
   "metadata": {},
   "outputs": [
    {
     "ename": "NameError",
     "evalue": "name 'Symbol' is not defined",
     "output_type": "error",
     "traceback": [
      "\u001b[0;31m---------------------------------------------------------------------------\u001b[0m",
      "\u001b[0;31mNameError\u001b[0m                                 Traceback (most recent call last)",
      "\u001b[0;32m/var/folders/rd/0m6n9v7j50s1khxpd4jn6mmr0000gs/T/ipykernel_32709/3932960324.py\u001b[0m in \u001b[0;36m<module>\u001b[0;34m\u001b[0m\n\u001b[0;32m----> 1\u001b[0;31m \u001b[0mx\u001b[0m \u001b[0;34m=\u001b[0m \u001b[0mSymbol\u001b[0m\u001b[0;34m(\u001b[0m\u001b[0;34m'x'\u001b[0m\u001b[0;34m)\u001b[0m\u001b[0;34m\u001b[0m\u001b[0;34m\u001b[0m\u001b[0m\n\u001b[0m\u001b[1;32m      2\u001b[0m \u001b[0my\u001b[0m \u001b[0;34m=\u001b[0m \u001b[0mSymbol\u001b[0m\u001b[0;34m(\u001b[0m\u001b[0;34m'y'\u001b[0m\u001b[0;34m)\u001b[0m\u001b[0;34m\u001b[0m\u001b[0;34m\u001b[0m\u001b[0m\n\u001b[1;32m      3\u001b[0m \u001b[0mA\u001b[0m \u001b[0;34m=\u001b[0m \u001b[0mMatrix\u001b[0m\u001b[0;34m(\u001b[0m\u001b[0;34m[\u001b[0m\u001b[0;34m[\u001b[0m\u001b[0;36m1\u001b[0m\u001b[0;34m,\u001b[0m\u001b[0mx\u001b[0m\u001b[0;34m]\u001b[0m\u001b[0;34m,\u001b[0m \u001b[0;34m[\u001b[0m\u001b[0my\u001b[0m\u001b[0;34m,\u001b[0m\u001b[0;36m1\u001b[0m\u001b[0;34m]\u001b[0m\u001b[0;34m]\u001b[0m\u001b[0;34m)\u001b[0m\u001b[0;34m\u001b[0m\u001b[0;34m\u001b[0m\u001b[0m\n\u001b[1;32m      4\u001b[0m \u001b[0mA\u001b[0m\u001b[0;34m\u001b[0m\u001b[0;34m\u001b[0m\u001b[0m\n",
      "\u001b[0;31mNameError\u001b[0m: name 'Symbol' is not defined"
     ]
    }
   ],
   "source": [
    "x = Symbol('x')\n",
    "y = Symbol('y')\n",
    "A = Matrix([[1,x], [y,1]])\n",
    "A"
   ]
  },
  {
   "cell_type": "code",
   "execution_count": null,
   "id": "03ea361c",
   "metadata": {},
   "outputs": [],
   "source": [
    "A[0,0]"
   ]
  },
  {
   "cell_type": "code",
   "execution_count": 3,
   "id": "46974796",
   "metadata": {},
   "outputs": [
    {
     "ename": "NameError",
     "evalue": "name 'A' is not defined",
     "output_type": "error",
     "traceback": [
      "\u001b[0;31m---------------------------------------------------------------------------\u001b[0m",
      "\u001b[0;31mNameError\u001b[0m                                 Traceback (most recent call last)",
      "\u001b[0;32m/var/folders/rd/0m6n9v7j50s1khxpd4jn6mmr0000gs/T/ipykernel_32709/4001750200.py\u001b[0m in \u001b[0;36m<module>\u001b[0;34m\u001b[0m\n\u001b[0;32m----> 1\u001b[0;31m \u001b[0mA\u001b[0m\u001b[0;34m[\u001b[0m\u001b[0;34m:\u001b[0m\u001b[0;34m,\u001b[0m\u001b[0;36m1\u001b[0m\u001b[0;34m]\u001b[0m\u001b[0;34m\u001b[0m\u001b[0;34m\u001b[0m\u001b[0m\n\u001b[0m",
      "\u001b[0;31mNameError\u001b[0m: name 'A' is not defined"
     ]
    }
   ],
   "source": [
    "A[:,1]"
   ]
  },
  {
   "cell_type": "code",
   "execution_count": 4,
   "id": "d91875fb",
   "metadata": {},
   "outputs": [
    {
     "ename": "NameError",
     "evalue": "name 'A' is not defined",
     "output_type": "error",
     "traceback": [
      "\u001b[0;31m---------------------------------------------------------------------------\u001b[0m",
      "\u001b[0;31mNameError\u001b[0m                                 Traceback (most recent call last)",
      "\u001b[0;32m/var/folders/rd/0m6n9v7j50s1khxpd4jn6mmr0000gs/T/ipykernel_32709/2232537972.py\u001b[0m in \u001b[0;36m<module>\u001b[0;34m\u001b[0m\n\u001b[0;32m----> 1\u001b[0;31m \u001b[0mA\u001b[0m\u001b[0;34m**\u001b[0m\u001b[0;36m2\u001b[0m\u001b[0;34m\u001b[0m\u001b[0;34m\u001b[0m\u001b[0m\n\u001b[0m",
      "\u001b[0;31mNameError\u001b[0m: name 'A' is not defined"
     ]
    }
   ],
   "source": [
    "A**2"
   ]
  },
  {
   "cell_type": "code",
   "execution_count": 5,
   "id": "6811e8b4",
   "metadata": {},
   "outputs": [
    {
     "ename": "NameError",
     "evalue": "name 'A' is not defined",
     "output_type": "error",
     "traceback": [
      "\u001b[0;31m---------------------------------------------------------------------------\u001b[0m",
      "\u001b[0;31mNameError\u001b[0m                                 Traceback (most recent call last)",
      "\u001b[0;32m/var/folders/rd/0m6n9v7j50s1khxpd4jn6mmr0000gs/T/ipykernel_32709/2114430425.py\u001b[0m in \u001b[0;36m<module>\u001b[0;34m\u001b[0m\n\u001b[0;32m----> 1\u001b[0;31m \u001b[0mA\u001b[0m\u001b[0;34m.\u001b[0m\u001b[0minv\u001b[0m\u001b[0;34m(\u001b[0m\u001b[0;34m)\u001b[0m\u001b[0;34m\u001b[0m\u001b[0;34m\u001b[0m\u001b[0m\n\u001b[0m",
      "\u001b[0;31mNameError\u001b[0m: name 'A' is not defined"
     ]
    }
   ],
   "source": [
    "A.inv()"
   ]
  },
  {
   "cell_type": "code",
   "execution_count": 6,
   "id": "a27b67d0",
   "metadata": {},
   "outputs": [
    {
     "ename": "NameError",
     "evalue": "name 'A' is not defined",
     "output_type": "error",
     "traceback": [
      "\u001b[0;31m---------------------------------------------------------------------------\u001b[0m",
      "\u001b[0;31mNameError\u001b[0m                                 Traceback (most recent call last)",
      "\u001b[0;32m/var/folders/rd/0m6n9v7j50s1khxpd4jn6mmr0000gs/T/ipykernel_32709/4107610219.py\u001b[0m in \u001b[0;36m<module>\u001b[0;34m\u001b[0m\n\u001b[0;32m----> 1\u001b[0;31m \u001b[0mI\u001b[0m \u001b[0;34m=\u001b[0m \u001b[0mA\u001b[0m\u001b[0;34m.\u001b[0m\u001b[0minv\u001b[0m\u001b[0;34m(\u001b[0m\u001b[0;34m)\u001b[0m\u001b[0;34m*\u001b[0m\u001b[0mA\u001b[0m\u001b[0;34m\u001b[0m\u001b[0;34m\u001b[0m\u001b[0m\n\u001b[0m\u001b[1;32m      2\u001b[0m \u001b[0mI\u001b[0m\u001b[0;34m\u001b[0m\u001b[0;34m\u001b[0m\u001b[0m\n",
      "\u001b[0;31mNameError\u001b[0m: name 'A' is not defined"
     ]
    }
   ],
   "source": [
    "I = A.inv()*A\n",
    "I"
   ]
  },
  {
   "cell_type": "code",
   "execution_count": 7,
   "id": "8dc7b0a0",
   "metadata": {},
   "outputs": [
    {
     "ename": "NameError",
     "evalue": "name 'simplify' is not defined",
     "output_type": "error",
     "traceback": [
      "\u001b[0;31m---------------------------------------------------------------------------\u001b[0m",
      "\u001b[0;31mNameError\u001b[0m                                 Traceback (most recent call last)",
      "\u001b[0;32m/var/folders/rd/0m6n9v7j50s1khxpd4jn6mmr0000gs/T/ipykernel_32709/93256350.py\u001b[0m in \u001b[0;36m<module>\u001b[0;34m\u001b[0m\n\u001b[0;32m----> 1\u001b[0;31m \u001b[0mI\u001b[0m \u001b[0;34m=\u001b[0m \u001b[0msimplify\u001b[0m\u001b[0;34m(\u001b[0m\u001b[0mI\u001b[0m\u001b[0;34m)\u001b[0m\u001b[0;34m\u001b[0m\u001b[0;34m\u001b[0m\u001b[0m\n\u001b[0m\u001b[1;32m      2\u001b[0m \u001b[0mI\u001b[0m\u001b[0;34m\u001b[0m\u001b[0;34m\u001b[0m\u001b[0m\n",
      "\u001b[0;31mNameError\u001b[0m: name 'simplify' is not defined"
     ]
    }
   ],
   "source": [
    "I = simplify(I)\n",
    "I"
   ]
  },
  {
   "cell_type": "markdown",
   "id": "d7ce4b52",
   "metadata": {},
   "source": [
    "Para matrices pequeñas, puedes calcular los _eigenvalores_ simbólicamente."
   ]
  },
  {
   "cell_type": "code",
   "execution_count": 9,
   "id": "7bc5a600",
   "metadata": {},
   "outputs": [
    {
     "ename": "NameError",
     "evalue": "name 'A' is not defined",
     "output_type": "error",
     "traceback": [
      "\u001b[0;31m---------------------------------------------------------------------------\u001b[0m",
      "\u001b[0;31mNameError\u001b[0m                                 Traceback (most recent call last)",
      "\u001b[0;32m/var/folders/rd/0m6n9v7j50s1khxpd4jn6mmr0000gs/T/ipykernel_32709/452988558.py\u001b[0m in \u001b[0;36m<module>\u001b[0;34m\u001b[0m\n\u001b[0;32m----> 1\u001b[0;31m \u001b[0mA\u001b[0m\u001b[0;34m.\u001b[0m\u001b[0meigenvals\u001b[0m\u001b[0;34m(\u001b[0m\u001b[0;34m)\u001b[0m\u001b[0;34m\u001b[0m\u001b[0;34m\u001b[0m\u001b[0m\n\u001b[0m",
      "\u001b[0;31mNameError\u001b[0m: name 'A' is not defined"
     ]
    }
   ],
   "source": [
    "A.eigenvals()"
   ]
  },
  {
   "cell_type": "code",
   "execution_count": 10,
   "id": "d898e738",
   "metadata": {},
   "outputs": [
    {
     "ename": "NameError",
     "evalue": "name 'A' is not defined",
     "output_type": "error",
     "traceback": [
      "\u001b[0;31m---------------------------------------------------------------------------\u001b[0m",
      "\u001b[0;31mNameError\u001b[0m                                 Traceback (most recent call last)",
      "\u001b[0;32m/var/folders/rd/0m6n9v7j50s1khxpd4jn6mmr0000gs/T/ipykernel_32709/118048402.py\u001b[0m in \u001b[0;36m<module>\u001b[0;34m\u001b[0m\n\u001b[0;32m----> 1\u001b[0;31m \u001b[0mA\u001b[0m\u001b[0;34m.\u001b[0m\u001b[0msubs\u001b[0m\u001b[0;34m(\u001b[0m\u001b[0;34m{\u001b[0m\u001b[0mx\u001b[0m\u001b[0;34m:\u001b[0m\u001b[0;36m0\u001b[0m\u001b[0;34m,\u001b[0m \u001b[0my\u001b[0m\u001b[0;34m:\u001b[0m\u001b[0;36m1\u001b[0m\u001b[0;34m}\u001b[0m\u001b[0;34m)\u001b[0m\u001b[0;34m\u001b[0m\u001b[0;34m\u001b[0m\u001b[0m\n\u001b[0m",
      "\u001b[0;31mNameError\u001b[0m: name 'A' is not defined"
     ]
    }
   ],
   "source": [
    "A.subs({x:0, y:1})"
   ]
  },
  {
   "cell_type": "markdown",
   "id": "4bf2faae",
   "metadata": {},
   "source": [
    "<div class=\"alert alert-info\">\n",
    "    \n",
    "**Ejercicio**: Cree matrices de $3\\times3$ de *Hilbert*, *Leslie* y *Circulantes* y muéstrelas de manera simbólica.\n",
    "</div>"
   ]
  }
 ],
 "metadata": {
  "kernelspec": {
   "display_name": "Python 3 (ipykernel)",
   "language": "python",
   "name": "python3"
  },
  "language_info": {
   "codemirror_mode": {
    "name": "ipython",
    "version": 3
   },
   "file_extension": ".py",
   "mimetype": "text/x-python",
   "name": "python",
   "nbconvert_exporter": "python",
   "pygments_lexer": "ipython3",
   "version": "3.9.6"
  }
 },
 "nbformat": 4,
 "nbformat_minor": 5
}
