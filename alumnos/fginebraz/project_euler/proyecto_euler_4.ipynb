{
 "cells": [
  {
   "cell_type": "markdown",
   "id": "4deb43fa",
   "metadata": {},
   "source": [
    "# Proyecto Euler #4\n",
    "* **Nombre**: Fatima Ginebra Zarandona\n",
    "* **CU**: 190874\n",
    "* **Usuario GitHub**: fginebraz\n",
    "\n",
    "La instrucción de https://projecteuler.net/problem=4 dada pide lo siguiente:\n",
    "\n",
    "\"*A palindromic number reads the same both ways. The largest palindrome made from the product of two 2-digit numbers is 9009 = 91 × 99. \n",
    "Find the largest palindrome made from the product of two 3-digit numbers.*\"\n",
    "\n",
    "La resolución y mi proceso de pensamiento se encuentran a continuación:"
   ]
  },
  {
   "cell_type": "markdown",
   "id": "23c867c2",
   "metadata": {},
   "source": [
    "El número natural más pequeño de tres dígitos es 100, mientras que el más grande es 999.\n",
    "\n",
    "Considerar que $100 \\times 100$= $10000$\n",
    "y también que $999 \\times 999$ = $998001$\n",
    "\n",
    "Por lo tanto, el número palíndrome que estamos buscando forzosamente deberá estar entre $10000$ y $998001$. Analizando esto, vemos que el número va a tener cinco o seis dígitos.\n",
    "\n",
    "La estructura de un número palídrome de cinco o seis dígitos es la siguiente:\n",
    "\n",
    "Sean $x,y,z \\in \\mathbb{N}$, son números con la siguiente estructura:\n",
    "\n",
    "Si tiene cinco dígitos: $x \\times 10000 + y \\times 1000 + z \\times 100 + y \\times 10 + x \\times 1$\n",
    "\n",
    "Si tiene seis dígitos: $x \\times 100000 + y \\times 10000 + z \\times 1000 + z \\times 100 + y \\times 10 + x \\times 1$\n",
    "\n",
    "En ambos casos ocurre lo siguiente:\n",
    "* $a$ está en la posición $0$ y en la posición $-1$\n",
    "* $b$ está en la posición $1$ y en la posición $-2$\n",
    "* $c$ está en la posición $2$ y en la posición $-3$\n",
    "\n",
    "Con esto en cuenta, podemos analizar todos los números que sean producto de multiplicar todas las combinaciones posibles entre dos números entre 100 y 999."
   ]
  },
  {
   "cell_type": "code",
   "execution_count": 7,
   "id": "b3918f80",
   "metadata": {},
   "outputs": [
    {
     "name": "stdout",
     "output_type": "stream",
     "text": [
      "906609\n"
     ]
    }
   ],
   "source": [
    "n = 0\n",
    "for a in range(100, 999):\n",
    "    for b in range(a, 999):\n",
    "        x = a * b\n",
    "        if x > n:\n",
    "            s = str(a * b)\n",
    "            if s[0]==s[-1] and s[1]==s[-2] and s[2]==s[-3]:\n",
    "                 n = a * b\n",
    "print (n)"
   ]
  }
 ],
 "metadata": {
  "kernelspec": {
   "display_name": "Python 3",
   "language": "python",
   "name": "python3"
  },
  "language_info": {
   "codemirror_mode": {
    "name": "ipython",
    "version": 3
   },
   "file_extension": ".py",
   "mimetype": "text/x-python",
   "name": "python",
   "nbconvert_exporter": "python",
   "pygments_lexer": "ipython3",
   "version": "3.8.8"
  }
 },
 "nbformat": 4,
 "nbformat_minor": 5
}
