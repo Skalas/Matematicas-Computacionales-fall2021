{
 "cells": [
  {
   "cell_type": "markdown",
   "id": "5a41322e",
   "metadata": {},
   "source": [
    "# Proyecto Euler #1\n",
    "* **Nombre**: Fatima Ginebra Zarandona\n",
    "* **CU**: 190874\n",
    "* **Usuario GitHub**: fginebraz\n",
    "\n",
    "La instrucción de https://projecteuler.net/problem=1 dada pide lo siguiente:\n",
    "\n",
    "\"*If we list all the natural numbers below 10 that are multiples of 3 or 5, we get 3, 5, 6 and 9. The sum of these multiples is 23.\n",
    "Find the sum of all the multiples of 3 or 5 below 1000.*\"\n",
    "\n",
    "La resolución se encuentra a continuación, de dos maneras en las que lo hice:"
   ]
  },
  {
   "cell_type": "code",
   "execution_count": 5,
   "id": "eb96b306",
   "metadata": {},
   "outputs": [
    {
     "data": {
      "text/plain": [
       "233168"
      ]
     },
     "execution_count": 5,
     "metadata": {},
     "output_type": "execute_result"
    }
   ],
   "source": [
    "N=[]\n",
    "\n",
    "for n in range(1,1000):\n",
    "    if n%3 == 0 or n%5 == 0:\n",
    "        N.append(n)\n",
    "\n",
    "sum(N)"
   ]
  },
  {
   "cell_type": "code",
   "execution_count": 11,
   "id": "8d033c2c",
   "metadata": {},
   "outputs": [
    {
     "name": "stdout",
     "output_type": "stream",
     "text": [
      "233168\n"
     ]
    }
   ],
   "source": [
    "suma=0\n",
    "sumando=0\n",
    "\n",
    "for n in range(1,1000):\n",
    "    if n%3 == 0 or n%5 == 0:\n",
    "        sumando=n\n",
    "        suma+=sumando\n",
    "print (suma)"
   ]
  }
 ],
 "metadata": {
  "kernelspec": {
   "display_name": "Python 3",
   "language": "python",
   "name": "python3"
  },
  "language_info": {
   "codemirror_mode": {
    "name": "ipython",
    "version": 3
   },
   "file_extension": ".py",
   "mimetype": "text/x-python",
   "name": "python",
   "nbconvert_exporter": "python",
   "pygments_lexer": "ipython3",
   "version": "3.8.8"
  }
 },
 "nbformat": 4,
 "nbformat_minor": 5
}
