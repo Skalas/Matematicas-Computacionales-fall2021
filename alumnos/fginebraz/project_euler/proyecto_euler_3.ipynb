{
 "cells": [
  {
   "cell_type": "markdown",
   "id": "4deb43fa",
   "metadata": {},
   "source": [
    "# Proyecto Euler #3\n",
    "* **Nombre**: Fatima Ginebra Zarandona\n",
    "* **CU**: 190874\n",
    "* **Usuario GitHub**: fginebraz\n",
    "\n",
    "La instrucción de https://projecteuler.net/problem=3 dada pide lo siguiente:\n",
    "\n",
    "\"*The prime factors of 13195 are 5, 7, 13 and 29. What is the largest prime factor of the number $600851475143$?*\"\n",
    "\n",
    "La resolución se encuentra a continuación:"
   ]
  },
  {
   "cell_type": "markdown",
   "id": "23c867c2",
   "metadata": {},
   "source": [
    "Para este ejercicio utilizaré el método de la división para encontrar los factores primos de $600851475143$. Dividiré el número dado por todos los números primos, uno por uno y de chico a grande, hasta que el número dado se reduzca a 1 al ya ser dividido por todos sus factores. Con esto, buscaré el primo más grande que se pudo utilizar como divisor."
   ]
  },
  {
   "cell_type": "code",
   "execution_count": 16,
   "id": "2b83e489",
   "metadata": {},
   "outputs": [
    {
     "name": "stdout",
     "output_type": "stream",
     "text": [
      "Todos los números primos que dividen a 600851475143 son [11, 251, 359]\n",
      "El número primo más grande que divide a 600851475143 es 359\n"
     ]
    }
   ],
   "source": [
    "num=991199\n",
    "\n",
    "factor=2\n",
    "\n",
    "'''Como 1 no es primo, empezamos en 2, además de que terminaríamos en un ciclo infinito\n",
    "porque todos los números son divisibles entre 1.'''\n",
    "\n",
    "listafactores=[]\n",
    "\n",
    "while factor<=num:\n",
    "    while num%factor == 0:\n",
    "        num = num/factor\n",
    "        if factor not in listafactores:\n",
    "            listafactores.append(factor)\n",
    "    factor+=1\n",
    "    \n",
    "largest_prime=max(listafactores)\n",
    "\n",
    "print(\"Todos los números primos que dividen a 600851475143 son\", listafactores)\n",
    "print(\"El número primo más grande que divide a 600851475143 es\", largest_prime)"
   ]
  }
 ],
 "metadata": {
  "kernelspec": {
   "display_name": "Python 3",
   "language": "python",
   "name": "python3"
  },
  "language_info": {
   "codemirror_mode": {
    "name": "ipython",
    "version": 3
   },
   "file_extension": ".py",
   "mimetype": "text/x-python",
   "name": "python",
   "nbconvert_exporter": "python",
   "pygments_lexer": "ipython3",
   "version": "3.8.8"
  }
 },
 "nbformat": 4,
 "nbformat_minor": 5
}
