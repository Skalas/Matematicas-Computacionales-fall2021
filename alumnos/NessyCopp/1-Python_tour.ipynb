{
 "cells": [
  {
   "cell_type": "markdown",
   "id": "d04e7d1c",
   "metadata": {},
   "source": [
    "# Tour de Python"
   ]
  },
  {
   "cell_type": "code",
   "execution_count": 1,
   "id": "aee04acc",
   "metadata": {},
   "outputs": [],
   "source": [
    "str?"
   ]
  },
  {
   "cell_type": "code",
   "execution_count": 2,
   "id": "182b517d",
   "metadata": {
    "scrolled": true
   },
   "outputs": [
    {
     "ename": "SyntaxError",
     "evalue": "invalid syntax (4058501755.py, line 1)",
     "output_type": "error",
     "traceback": [
      "\u001b[0;36m  File \u001b[0;32m\"/tmp/ipykernel_141/4058501755.py\"\u001b[0;36m, line \u001b[0;32m1\u001b[0m\n\u001b[0;31m    str.capitalize?bytes\u001b[0m\n\u001b[0m                  ^\u001b[0m\n\u001b[0;31mSyntaxError\u001b[0m\u001b[0;31m:\u001b[0m invalid syntax\n"
     ]
    }
   ],
   "source": [
    "str.capitalize?bytes"
   ]
  },
  {
   "cell_type": "code",
   "execution_count": 3,
   "id": "6509cd41",
   "metadata": {},
   "outputs": [],
   "source": [
    "str.capitalize?"
   ]
  },
  {
   "cell_type": "markdown",
   "id": "f70ef0cb",
   "metadata": {},
   "source": [
    "str.capitalize makes the first character have upper case and the rest lower case."
   ]
  },
  {
   "cell_type": "code",
   "execution_count": 4,
   "id": "6edb1d50",
   "metadata": {},
   "outputs": [
    {
     "ename": "NameError",
     "evalue": "name 'ines' is not defined",
     "output_type": "error",
     "traceback": [
      "\u001b[0;31m---------------------------------------------------------------------------\u001b[0m",
      "\u001b[0;31mNameError\u001b[0m                                 Traceback (most recent call last)",
      "\u001b[0;32m/tmp/ipykernel_141/596931266.py\u001b[0m in \u001b[0;36m<module>\u001b[0;34m\u001b[0m\n\u001b[0;32m----> 1\u001b[0;31m \u001b[0mstr\u001b[0m\u001b[0;34m.\u001b[0m\u001b[0mcapitalize\u001b[0m\u001b[0;34m(\u001b[0m\u001b[0mines\u001b[0m\u001b[0;34m)\u001b[0m\u001b[0;34m\u001b[0m\u001b[0;34m\u001b[0m\u001b[0m\n\u001b[0m",
      "\u001b[0;31mNameError\u001b[0m: name 'ines' is not defined"
     ]
    }
   ],
   "source": [
    "str.capitalize(ines)"
   ]
  },
  {
   "cell_type": "code",
   "execution_count": 5,
   "id": "bbdda5ea",
   "metadata": {},
   "outputs": [],
   "source": [
    "Nombre = str(\"inés\")"
   ]
  },
  {
   "cell_type": "code",
   "execution_count": 6,
   "id": "5c135938",
   "metadata": {},
   "outputs": [
    {
     "name": "stdout",
     "output_type": "stream",
     "text": [
      "inés\n"
     ]
    }
   ],
   "source": [
    "print(Nombre)"
   ]
  },
  {
   "cell_type": "code",
   "execution_count": 7,
   "id": "a069250d",
   "metadata": {},
   "outputs": [
    {
     "data": {
      "text/plain": [
       "'Inés'"
      ]
     },
     "execution_count": 7,
     "metadata": {},
     "output_type": "execute_result"
    }
   ],
   "source": [
    "str.capitalize(Nombre)"
   ]
  },
  {
   "cell_type": "markdown",
   "id": "8f38d6a3",
   "metadata": {},
   "source": [
    "## Variables\n",
    "\n",
    "**Asignación**, le decimos a la computadora que la variable x tiene *asignado* el valor 1. "
   ]
  },
  {
   "cell_type": "code",
   "execution_count": 8,
   "id": "df077023",
   "metadata": {},
   "outputs": [],
   "source": [
    "x = 1"
   ]
  },
  {
   "cell_type": "code",
   "execution_count": 9,
   "id": "98752d4f",
   "metadata": {},
   "outputs": [
    {
     "data": {
      "text/plain": [
       "1"
      ]
     },
     "execution_count": 9,
     "metadata": {},
     "output_type": "execute_result"
    }
   ],
   "source": [
    "x"
   ]
  },
  {
   "cell_type": "code",
   "execution_count": 10,
   "id": "a02f0abf",
   "metadata": {},
   "outputs": [
    {
     "name": "stdout",
     "output_type": "stream",
     "text": [
      "1\n"
     ]
    }
   ],
   "source": [
    "print(x)"
   ]
  },
  {
   "cell_type": "markdown",
   "id": "a0488670",
   "metadata": {},
   "source": [
    "**Asignación doble**"
   ]
  },
  {
   "cell_type": "code",
   "execution_count": 11,
   "id": "66a57e8e",
   "metadata": {},
   "outputs": [
    {
     "name": "stdout",
     "output_type": "stream",
     "text": [
      "El valor de a es 3\n",
      "El valor de b es 4\n"
     ]
    }
   ],
   "source": [
    "a, b = 3, 4\n",
    "print(\"El valor de a es\", a)\n",
    "print(\"El valor de b es\", b)"
   ]
  },
  {
   "cell_type": "markdown",
   "id": "fce7fed6",
   "metadata": {},
   "source": [
    "Los **tipos** de variables \"básicos son los siguientes:\n",
    "\n",
    "**Enteros**"
   ]
  },
  {
   "cell_type": "code",
   "execution_count": 12,
   "id": "a40f7849",
   "metadata": {},
   "outputs": [
    {
     "data": {
      "text/plain": [
       "3"
      ]
     },
     "execution_count": 12,
     "metadata": {},
     "output_type": "execute_result"
    }
   ],
   "source": [
    "x = 3\n",
    "x"
   ]
  },
  {
   "cell_type": "markdown",
   "id": "679e7da9",
   "metadata": {},
   "source": [
    "**Flotantes**"
   ]
  },
  {
   "cell_type": "code",
   "execution_count": 13,
   "id": "e591fcaf",
   "metadata": {},
   "outputs": [
    {
     "data": {
      "text/plain": [
       "3.5"
      ]
     },
     "execution_count": 13,
     "metadata": {},
     "output_type": "execute_result"
    }
   ],
   "source": [
    "y = 3.5\n",
    "y"
   ]
  },
  {
   "cell_type": "markdown",
   "id": "40d43a0e",
   "metadata": {},
   "source": [
    "**Booleanos**"
   ]
  },
  {
   "cell_type": "code",
   "execution_count": 14,
   "id": "9e3f0d04",
   "metadata": {},
   "outputs": [
    {
     "data": {
      "text/plain": [
       "True"
      ]
     },
     "execution_count": 14,
     "metadata": {},
     "output_type": "execute_result"
    }
   ],
   "source": [
    "a = True\n",
    "a"
   ]
  },
  {
   "cell_type": "code",
   "execution_count": 15,
   "id": "a2296b8d",
   "metadata": {},
   "outputs": [
    {
     "data": {
      "text/plain": [
       "1.2e+34"
      ]
     },
     "execution_count": 15,
     "metadata": {},
     "output_type": "execute_result"
    }
   ],
   "source": [
    "x = 1.2e34\n",
    "x"
   ]
  },
  {
   "cell_type": "code",
   "execution_count": 16,
   "id": "1d2d04eb",
   "metadata": {},
   "outputs": [
    {
     "data": {
      "text/plain": [
       "(1e-12+35600j)"
      ]
     },
     "execution_count": 16,
     "metadata": {},
     "output_type": "execute_result"
    }
   ],
   "source": [
    "x =1e-12 + 3.56e4j\n",
    "x"
   ]
  },
  {
   "cell_type": "markdown",
   "id": "3cd292e2",
   "metadata": {},
   "source": [
    "**Cadena de texto**"
   ]
  },
  {
   "cell_type": "code",
   "execution_count": 17,
   "id": "b9f1c7cb",
   "metadata": {},
   "outputs": [
    {
     "data": {
      "text/plain": [
       "'Esto es una cadena de texto con acentos y otros símbolos UTF-8 ¿?¡!'"
      ]
     },
     "execution_count": 17,
     "metadata": {},
     "output_type": "execute_result"
    }
   ],
   "source": [
    "cadena = u\"Esto es una cadena de texto con acentos y otros símbolos UTF-8 ¿?¡!\"\n",
    "cadena"
   ]
  },
  {
   "cell_type": "code",
   "execution_count": 18,
   "id": "a9c815b5",
   "metadata": {},
   "outputs": [
    {
     "data": {
      "text/plain": [
       "'Esto también es una cadena de texto, pero sin u al principio.'"
      ]
     },
     "execution_count": 18,
     "metadata": {},
     "output_type": "execute_result"
    }
   ],
   "source": [
    "texto = \"Esto también es una cadena de texto, pero sin u al principio.\"\n",
    "texto"
   ]
  },
  {
   "cell_type": "code",
   "execution_count": 19,
   "id": "488b45ee",
   "metadata": {},
   "outputs": [
    {
     "name": "stdout",
     "output_type": "stream",
     "text": [
      "Esto es una cadena de texto con acentos y otros símbolos UTF-8 ¿?¡!\n"
     ]
    }
   ],
   "source": [
    "print(cadena)"
   ]
  },
  {
   "cell_type": "code",
   "execution_count": 20,
   "id": "86a7acee",
   "metadata": {},
   "outputs": [
    {
     "name": "stdout",
     "output_type": "stream",
     "text": [
      "Esto también es una cadena de texto, pero sin u al principio.\n"
     ]
    }
   ],
   "source": [
    "print(texto)"
   ]
  },
  {
   "cell_type": "markdown",
   "id": "e842b5b4",
   "metadata": {},
   "source": [
    "**Ejercicio:** Usa la ayuda en línea de Jupyter para investigar cómo...\n",
    "- Capitalizar la cadena.\n",
    "- Convertirla a minúsculas.\n",
    "- Convertirla a mayúsculas.\n",
    "- Eliminarle los espacios. \n",
    "\n",
    "Utiliza la cadena \"Anita lava la tina\"."
   ]
  },
  {
   "cell_type": "code",
   "execution_count": 21,
   "id": "5ad4ee3b",
   "metadata": {},
   "outputs": [],
   "source": [
    "str.lower?"
   ]
  },
  {
   "cell_type": "code",
   "execution_count": 22,
   "id": "334dc131",
   "metadata": {},
   "outputs": [],
   "source": [
    "str.join?"
   ]
  },
  {
   "cell_type": "code",
   "execution_count": 23,
   "id": "79886ee6",
   "metadata": {},
   "outputs": [],
   "source": [
    "str.upper?"
   ]
  },
  {
   "cell_type": "code",
   "execution_count": 24,
   "id": "52fbfe66",
   "metadata": {},
   "outputs": [],
   "source": [
    "str.capitalize?"
   ]
  },
  {
   "cell_type": "code",
   "execution_count": 27,
   "id": "da8d197c",
   "metadata": {},
   "outputs": [],
   "source": [
    "str.lstrip?"
   ]
  },
  {
   "cell_type": "markdown",
   "id": "a3765c42",
   "metadata": {},
   "source": [
    "Resolviendo el ejercicio..."
   ]
  },
  {
   "cell_type": "code",
   "execution_count": 117,
   "id": "d6d8fc93",
   "metadata": {},
   "outputs": [
    {
     "name": "stdout",
     "output_type": "stream",
     "text": [
      "Texto original:  anita lava la tina \n",
      "Texto en mayúsculas:  ANITA LAVA LA TINA \n",
      "Texto en minúsculas:  anita lava la tina \n",
      "Texto con la primera letra mayúscula:  Anita lava la tina \n",
      "Texto sin espacios:  anitalavalatina\n"
     ]
    }
   ],
   "source": [
    "texto2 = \"anita lava la tina\"\n",
    "texto2Ma = str.upper(texto2)\n",
    "texto2Mi = str.lower(texto2)\n",
    "texto2Cap = str.capitalize(texto2)\n",
    "texto2NoEsp = texto2.replace(\" \",\"\")\n",
    "\n",
    "print(\"Texto original: \", texto2,\"\\nTexto en mayúsculas: \", texto2Ma, \"\\nTexto en minúsculas: \", texto2Mi, \"\\nTexto con la primera letra mayúscula: \", texto2Cap, \"\\nTexto sin espacios: \", texto2NoEsp)"
   ]
  },
  {
   "cell_type": "code",
   "execution_count": 28,
   "id": "a086024c",
   "metadata": {},
   "outputs": [
    {
     "ename": "TypeError",
     "evalue": "str.lstrip() takes no keyword arguments",
     "output_type": "error",
     "traceback": [
      "\u001b[0;31m---------------------------------------------------------------------------\u001b[0m",
      "\u001b[0;31mTypeError\u001b[0m                                 Traceback (most recent call last)",
      "\u001b[0;32m/tmp/ipykernel_141/1670682687.py\u001b[0m in \u001b[0;36m<module>\u001b[0;34m\u001b[0m\n\u001b[0;32m----> 1\u001b[0;31m \u001b[0mtexto2NoEsp\u001b[0m \u001b[0;34m=\u001b[0m \u001b[0mstr\u001b[0m\u001b[0;34m.\u001b[0m\u001b[0mlstrip\u001b[0m\u001b[0;34m(\u001b[0m\u001b[0mtexto2\u001b[0m\u001b[0;34m,\u001b[0m \u001b[0mchars\u001b[0m\u001b[0;34m=\u001b[0m\u001b[0;32mNone\u001b[0m\u001b[0;34m)\u001b[0m\u001b[0;34m\u001b[0m\u001b[0;34m\u001b[0m\u001b[0m\n\u001b[0m\u001b[1;32m      2\u001b[0m \u001b[0mtexto2NoEsp\u001b[0m\u001b[0;34m\u001b[0m\u001b[0;34m\u001b[0m\u001b[0m\n",
      "\u001b[0;31mTypeError\u001b[0m: str.lstrip() takes no keyword arguments"
     ]
    }
   ],
   "source": [
    "texto2NoEsp = str.lstrip(texto2, chars=None)\n",
    "texto2NoEsp"
   ]
  },
  {
   "cell_type": "code",
   "execution_count": 115,
   "id": "5288594b",
   "metadata": {},
   "outputs": [
    {
     "name": "stdout",
     "output_type": "stream",
     "text": [
      "anitalavalatina\n"
     ]
    }
   ],
   "source": [
    "print(texto2.replace(\" \",\"\")) #Quitar los espacios en blanco"
   ]
  },
  {
   "cell_type": "markdown",
   "id": "2668d321",
   "metadata": {},
   "source": [
    "## Operaciones\n"
   ]
  },
  {
   "cell_type": "code",
   "execution_count": 30,
   "id": "c81054a2",
   "metadata": {},
   "outputs": [],
   "source": [
    "x = 3\n",
    "y = 2"
   ]
  },
  {
   "cell_type": "markdown",
   "id": "529d6c55",
   "metadata": {},
   "source": [
    "### Suma y resta"
   ]
  },
  {
   "cell_type": "code",
   "execution_count": 31,
   "id": "0bea6ce7",
   "metadata": {},
   "outputs": [
    {
     "data": {
      "text/plain": [
       "5"
      ]
     },
     "execution_count": 31,
     "metadata": {},
     "output_type": "execute_result"
    }
   ],
   "source": [
    "x + y"
   ]
  },
  {
   "cell_type": "code",
   "execution_count": 32,
   "id": "f0c8cd7c",
   "metadata": {},
   "outputs": [
    {
     "data": {
      "text/plain": [
       "1"
      ]
     },
     "execution_count": 32,
     "metadata": {},
     "output_type": "execute_result"
    }
   ],
   "source": [
    "x - y"
   ]
  },
  {
   "cell_type": "markdown",
   "id": "686aca10",
   "metadata": {},
   "source": [
    "### Multiplicación y división"
   ]
  },
  {
   "cell_type": "code",
   "execution_count": 33,
   "id": "3a606b02",
   "metadata": {},
   "outputs": [
    {
     "data": {
      "text/plain": [
       "6"
      ]
     },
     "execution_count": 33,
     "metadata": {},
     "output_type": "execute_result"
    }
   ],
   "source": [
    "x*y"
   ]
  },
  {
   "cell_type": "code",
   "execution_count": 34,
   "id": "acba47a7",
   "metadata": {},
   "outputs": [
    {
     "data": {
      "text/plain": [
       "1.5"
      ]
     },
     "execution_count": 34,
     "metadata": {},
     "output_type": "execute_result"
    }
   ],
   "source": [
    "x/y"
   ]
  },
  {
   "cell_type": "markdown",
   "id": "111b1a0f",
   "metadata": {},
   "source": [
    "### Potencia y residuo"
   ]
  },
  {
   "cell_type": "code",
   "execution_count": 35,
   "id": "b83e6965",
   "metadata": {},
   "outputs": [
    {
     "data": {
      "text/plain": [
       "9"
      ]
     },
     "execution_count": 35,
     "metadata": {},
     "output_type": "execute_result"
    }
   ],
   "source": [
    "x**y"
   ]
  },
  {
   "cell_type": "code",
   "execution_count": 36,
   "id": "b6de11ca",
   "metadata": {},
   "outputs": [
    {
     "data": {
      "text/plain": [
       "2"
      ]
     },
     "execution_count": 36,
     "metadata": {},
     "output_type": "execute_result"
    }
   ],
   "source": [
    "y%x"
   ]
  },
  {
   "cell_type": "markdown",
   "id": "6c7f0a6e",
   "metadata": {},
   "source": [
    "**Ejercicio:** Repite las operaciones, pero ahora usa el siguiente valor de y."
   ]
  },
  {
   "cell_type": "code",
   "execution_count": 37,
   "id": "ce298ce3",
   "metadata": {},
   "outputs": [],
   "source": [
    "y =4.1"
   ]
  },
  {
   "cell_type": "code",
   "execution_count": 38,
   "id": "20cda562",
   "metadata": {},
   "outputs": [
    {
     "data": {
      "text/plain": [
       "7.1"
      ]
     },
     "execution_count": 38,
     "metadata": {},
     "output_type": "execute_result"
    }
   ],
   "source": [
    "x + y"
   ]
  },
  {
   "cell_type": "code",
   "execution_count": 39,
   "id": "c0d37928",
   "metadata": {},
   "outputs": [
    {
     "data": {
      "text/plain": [
       "-1.0999999999999996"
      ]
     },
     "execution_count": 39,
     "metadata": {},
     "output_type": "execute_result"
    }
   ],
   "source": [
    "x - y"
   ]
  },
  {
   "cell_type": "code",
   "execution_count": 40,
   "id": "c8398278",
   "metadata": {},
   "outputs": [
    {
     "data": {
      "text/plain": [
       "12.299999999999999"
      ]
     },
     "execution_count": 40,
     "metadata": {},
     "output_type": "execute_result"
    }
   ],
   "source": [
    "x * y #Problema del punto flotante..."
   ]
  },
  {
   "cell_type": "code",
   "execution_count": 41,
   "id": "235884d5",
   "metadata": {},
   "outputs": [
    {
     "data": {
      "text/plain": [
       "0.7317073170731708"
      ]
     },
     "execution_count": 41,
     "metadata": {},
     "output_type": "execute_result"
    }
   ],
   "source": [
    "x/y\n"
   ]
  },
  {
   "cell_type": "code",
   "execution_count": 42,
   "id": "0c936bb8",
   "metadata": {},
   "outputs": [
    {
     "data": {
      "text/plain": [
       "3.0"
      ]
     },
     "execution_count": 42,
     "metadata": {},
     "output_type": "execute_result"
    }
   ],
   "source": [
    "x%y"
   ]
  },
  {
   "cell_type": "code",
   "execution_count": 43,
   "id": "10e11a52",
   "metadata": {},
   "outputs": [
    {
     "data": {
      "text/plain": [
       "90.40597709674623"
      ]
     },
     "execution_count": 43,
     "metadata": {},
     "output_type": "execute_result"
    }
   ],
   "source": [
    "x**y"
   ]
  },
  {
   "cell_type": "code",
   "execution_count": 44,
   "id": "c7cfceb2",
   "metadata": {},
   "outputs": [
    {
     "name": "stdout",
     "output_type": "stream",
     "text": [
      "El tipo de variable que obtenemos es <class 'float'>\n"
     ]
    }
   ],
   "source": [
    "print(\"El tipo de variable que obtenemos es\", type(x**y))"
   ]
  },
  {
   "cell_type": "markdown",
   "id": "9860373c",
   "metadata": {},
   "source": [
    "**Ejercicio:** Repite las operaciones, pero ahora usa el siguiente valor de y."
   ]
  },
  {
   "cell_type": "code",
   "execution_count": 45,
   "id": "f83b4a57",
   "metadata": {},
   "outputs": [],
   "source": [
    "y = 4 + 3j"
   ]
  },
  {
   "cell_type": "code",
   "execution_count": 46,
   "id": "e2bcf212",
   "metadata": {},
   "outputs": [
    {
     "data": {
      "text/plain": [
       "(12+9j)"
      ]
     },
     "execution_count": 46,
     "metadata": {},
     "output_type": "execute_result"
    }
   ],
   "source": [
    "x*y"
   ]
  },
  {
   "cell_type": "code",
   "execution_count": 47,
   "id": "132c89f4",
   "metadata": {},
   "outputs": [
    {
     "data": {
      "text/plain": [
       "(0.48-0.36j)"
      ]
     },
     "execution_count": 47,
     "metadata": {},
     "output_type": "execute_result"
    }
   ],
   "source": [
    "x/y"
   ]
  },
  {
   "cell_type": "code",
   "execution_count": 48,
   "id": "635487dc",
   "metadata": {},
   "outputs": [
    {
     "data": {
      "text/plain": [
       "(-1-3j)"
      ]
     },
     "execution_count": 48,
     "metadata": {},
     "output_type": "execute_result"
    }
   ],
   "source": [
    "x-y"
   ]
  },
  {
   "cell_type": "code",
   "execution_count": 49,
   "id": "2c2d1ad0",
   "metadata": {},
   "outputs": [
    {
     "data": {
      "text/plain": [
       "(7+3j)"
      ]
     },
     "execution_count": 49,
     "metadata": {},
     "output_type": "execute_result"
    }
   ],
   "source": [
    "x+y"
   ]
  },
  {
   "cell_type": "code",
   "execution_count": 50,
   "id": "3dbe9bc6",
   "metadata": {},
   "outputs": [
    {
     "data": {
      "text/plain": [
       "(-80.03836209851747-12.44429960209101j)"
      ]
     },
     "execution_count": 50,
     "metadata": {},
     "output_type": "execute_result"
    }
   ],
   "source": [
    "x**y"
   ]
  },
  {
   "cell_type": "code",
   "execution_count": 51,
   "id": "45e83ee3",
   "metadata": {},
   "outputs": [
    {
     "data": {
      "text/plain": [
       "(-44+117j)"
      ]
     },
     "execution_count": 51,
     "metadata": {},
     "output_type": "execute_result"
    }
   ],
   "source": [
    "y**x"
   ]
  },
  {
   "cell_type": "code",
   "execution_count": 52,
   "id": "f7e75a0b",
   "metadata": {},
   "outputs": [
    {
     "ename": "TypeError",
     "evalue": "can't mod complex numbers.",
     "output_type": "error",
     "traceback": [
      "\u001b[0;31m---------------------------------------------------------------------------\u001b[0m",
      "\u001b[0;31mTypeError\u001b[0m                                 Traceback (most recent call last)",
      "\u001b[0;32m/tmp/ipykernel_141/1641365800.py\u001b[0m in \u001b[0;36m<module>\u001b[0;34m\u001b[0m\n\u001b[0;32m----> 1\u001b[0;31m \u001b[0mx\u001b[0m\u001b[0;34m%\u001b[0m\u001b[0my\u001b[0m\u001b[0;34m\u001b[0m\u001b[0;34m\u001b[0m\u001b[0m\n\u001b[0m",
      "\u001b[0;31mTypeError\u001b[0m: can't mod complex numbers."
     ]
    }
   ],
   "source": [
    "x%y"
   ]
  },
  {
   "cell_type": "code",
   "execution_count": 53,
   "id": "20d0e36c",
   "metadata": {},
   "outputs": [
    {
     "ename": "TypeError",
     "evalue": "can't mod complex numbers.",
     "output_type": "error",
     "traceback": [
      "\u001b[0;31m---------------------------------------------------------------------------\u001b[0m",
      "\u001b[0;31mTypeError\u001b[0m                                 Traceback (most recent call last)",
      "\u001b[0;32m/tmp/ipykernel_141/2467144982.py\u001b[0m in \u001b[0;36m<module>\u001b[0;34m\u001b[0m\n\u001b[0;32m----> 1\u001b[0;31m \u001b[0my\u001b[0m\u001b[0;34m%\u001b[0m\u001b[0mx\u001b[0m\u001b[0;34m\u001b[0m\u001b[0;34m\u001b[0m\u001b[0m\n\u001b[0m",
      "\u001b[0;31mTypeError\u001b[0m: can't mod complex numbers."
     ]
    }
   ],
   "source": [
    "y%x"
   ]
  },
  {
   "cell_type": "code",
   "execution_count": 56,
   "id": "939ecea3",
   "metadata": {},
   "outputs": [
    {
     "name": "stdout",
     "output_type": "stream",
     "text": [
      "Lo que sucede es que el al sumar un número complejo  (4+3j)  con un número real  3 , o hacer cualquier tipo de operación, el número real se convierte en complejo.\n",
      "De modo que el resultado es un número complejo  <class 'complex'>\n"
     ]
    }
   ],
   "source": [
    "print(\"Lo que sucede es que el al sumar un número complejo \", y, \" con un número real \", x, \", o hacer cualquier tipo de operación, el número real se convierte en complejo.\\nDe modo que el resultado es un número complejo \", type(x+y))"
   ]
  },
  {
   "cell_type": "markdown",
   "id": "2deffa91",
   "metadata": {},
   "source": [
    "**Ejercicio:** ¿Qué pasa en lo siguiente?"
   ]
  },
  {
   "cell_type": "code",
   "execution_count": 57,
   "id": "f6cdd2d4",
   "metadata": {},
   "outputs": [],
   "source": [
    "a = 3\n",
    "b = \"Hola\""
   ]
  },
  {
   "cell_type": "code",
   "execution_count": 58,
   "id": "b55e9d4f",
   "metadata": {},
   "outputs": [
    {
     "ename": "TypeError",
     "evalue": "unsupported operand type(s) for +: 'int' and 'str'",
     "output_type": "error",
     "traceback": [
      "\u001b[0;31m---------------------------------------------------------------------------\u001b[0m",
      "\u001b[0;31mTypeError\u001b[0m                                 Traceback (most recent call last)",
      "\u001b[0;32m/tmp/ipykernel_141/1216668022.py\u001b[0m in \u001b[0;36m<module>\u001b[0;34m\u001b[0m\n\u001b[0;32m----> 1\u001b[0;31m \u001b[0ma\u001b[0m \u001b[0;34m+\u001b[0m \u001b[0mb\u001b[0m\u001b[0;34m\u001b[0m\u001b[0;34m\u001b[0m\u001b[0m\n\u001b[0m",
      "\u001b[0;31mTypeError\u001b[0m: unsupported operand type(s) for +: 'int' and 'str'"
     ]
    }
   ],
   "source": [
    "a + b"
   ]
  },
  {
   "cell_type": "code",
   "execution_count": 59,
   "id": "fba61115",
   "metadata": {},
   "outputs": [
    {
     "data": {
      "text/plain": [
       "'3Hola'"
      ]
     },
     "execution_count": 59,
     "metadata": {},
     "output_type": "execute_result"
    }
   ],
   "source": [
    "str(a) + b"
   ]
  },
  {
   "cell_type": "code",
   "execution_count": 60,
   "id": "eebfe751",
   "metadata": {},
   "outputs": [
    {
     "data": {
      "text/plain": [
       "'HolaHola'"
      ]
     },
     "execution_count": 60,
     "metadata": {},
     "output_type": "execute_result"
    }
   ],
   "source": [
    "b + b #Junta las cadenas de texto"
   ]
  },
  {
   "cell_type": "code",
   "execution_count": 61,
   "id": "cf003607",
   "metadata": {},
   "outputs": [
    {
     "data": {
      "text/plain": [
       "'HolaHolaHola'"
      ]
     },
     "execution_count": 61,
     "metadata": {},
     "output_type": "execute_result"
    }
   ],
   "source": [
    "a * b #Imprime la cadena las veces del valor de a. Tiene que ser número entero."
   ]
  },
  {
   "cell_type": "code",
   "execution_count": 62,
   "id": "27daf5ca",
   "metadata": {
    "scrolled": true
   },
   "outputs": [
    {
     "ename": "TypeError",
     "evalue": "can't multiply sequence by non-int of type 'float'",
     "output_type": "error",
     "traceback": [
      "\u001b[0;31m---------------------------------------------------------------------------\u001b[0m",
      "\u001b[0;31mTypeError\u001b[0m                                 Traceback (most recent call last)",
      "\u001b[0;32m/tmp/ipykernel_141/1094817216.py\u001b[0m in \u001b[0;36m<module>\u001b[0;34m\u001b[0m\n\u001b[0;32m----> 1\u001b[0;31m \u001b[0;36m3.5\u001b[0m\u001b[0;34m*\u001b[0m\u001b[0mb\u001b[0m\u001b[0;34m\u001b[0m\u001b[0;34m\u001b[0m\u001b[0m\n\u001b[0m",
      "\u001b[0;31mTypeError\u001b[0m: can't multiply sequence by non-int of type 'float'"
     ]
    }
   ],
   "source": [
    "3.5*b"
   ]
  },
  {
   "cell_type": "markdown",
   "id": "af04a078",
   "metadata": {},
   "source": [
    "**Ejercicio:** ¿Qué puedes deducir de lo siguiente?"
   ]
  },
  {
   "cell_type": "code",
   "execution_count": 63,
   "id": "b134f1f9",
   "metadata": {},
   "outputs": [
    {
     "name": "stdout",
     "output_type": "stream",
     "text": [
      "1.0\n",
      "2.0\n",
      "3.0\n"
     ]
    }
   ],
   "source": [
    "a, b, c = 1.0, 2.0, 3.0\n",
    "print(a)\n",
    "print(b)\n",
    "print(c)"
   ]
  },
  {
   "cell_type": "code",
   "execution_count": 64,
   "id": "27fcefbd",
   "metadata": {},
   "outputs": [
    {
     "data": {
      "text/plain": [
       "1.6666666666666665"
      ]
     },
     "execution_count": 64,
     "metadata": {},
     "output_type": "execute_result"
    }
   ],
   "source": [
    "a + b/c"
   ]
  },
  {
   "cell_type": "code",
   "execution_count": 65,
   "id": "3f11822a",
   "metadata": {},
   "outputs": [
    {
     "data": {
      "text/plain": [
       "1.0"
      ]
     },
     "execution_count": 65,
     "metadata": {},
     "output_type": "execute_result"
    }
   ],
   "source": [
    "(a+b)/c"
   ]
  },
  {
   "cell_type": "markdown",
   "id": "a7a7840a",
   "metadata": {},
   "source": [
    "De estos ejercicios se puede deducir que las operaciones con números de tipo flotante regresan resultados de tipo flotante."
   ]
  },
  {
   "cell_type": "markdown",
   "id": "2bdc9d88",
   "metadata": {},
   "source": [
    "## Modificadores de una variable"
   ]
  },
  {
   "cell_type": "code",
   "execution_count": 66,
   "id": "414a050e",
   "metadata": {},
   "outputs": [],
   "source": [
    "x = 0"
   ]
  },
  {
   "cell_type": "code",
   "execution_count": 67,
   "id": "e2c6a5d1",
   "metadata": {},
   "outputs": [],
   "source": [
    "x += 1"
   ]
  },
  {
   "cell_type": "code",
   "execution_count": 68,
   "id": "25bff8aa",
   "metadata": {},
   "outputs": [
    {
     "name": "stdout",
     "output_type": "stream",
     "text": [
      "1\n"
     ]
    }
   ],
   "source": [
    "print(x)"
   ]
  },
  {
   "cell_type": "code",
   "execution_count": 69,
   "id": "85d9adac",
   "metadata": {},
   "outputs": [],
   "source": [
    "x -= 2"
   ]
  },
  {
   "cell_type": "code",
   "execution_count": 70,
   "id": "ca2263bd",
   "metadata": {},
   "outputs": [
    {
     "name": "stdout",
     "output_type": "stream",
     "text": [
      "-1\n"
     ]
    }
   ],
   "source": [
    "print(x)"
   ]
  },
  {
   "cell_type": "code",
   "execution_count": 71,
   "id": "bbe72700",
   "metadata": {},
   "outputs": [
    {
     "name": "stdout",
     "output_type": "stream",
     "text": [
      "-3.14\n"
     ]
    }
   ],
   "source": [
    "x *= 3.14\n",
    "print(x)"
   ]
  },
  {
   "cell_type": "code",
   "execution_count": 72,
   "id": "d372f78b",
   "metadata": {},
   "outputs": [],
   "source": [
    "x /= 5*a"
   ]
  },
  {
   "cell_type": "code",
   "execution_count": 73,
   "id": "eea26ad7",
   "metadata": {},
   "outputs": [
    {
     "name": "stdout",
     "output_type": "stream",
     "text": [
      "-0.628\n"
     ]
    }
   ],
   "source": [
    "print(x)"
   ]
  },
  {
   "cell_type": "code",
   "execution_count": 118,
   "id": "141dd4dd",
   "metadata": {},
   "outputs": [
    {
     "name": "stdout",
     "output_type": "stream",
     "text": [
      "1.6439335666815615\n"
     ]
    }
   ],
   "source": [
    "print(a)"
   ]
  },
  {
   "cell_type": "code",
   "execution_count": 119,
   "id": "52c66d34",
   "metadata": {},
   "outputs": [
    {
     "name": "stdout",
     "output_type": "stream",
     "text": [
      "Escribe un número: 3\n",
      "3  es impar.\n"
     ]
    }
   ],
   "source": [
    "n = int(input(\"Escribe un número: \"))\n",
    "if n%2 == 0:\n",
    "    print(n, \" es par.\")\n",
    "else:\n",
    "    print(n, \" es impar.\")"
   ]
  },
  {
   "cell_type": "markdown",
   "id": "6cc7b87c",
   "metadata": {},
   "source": [
    "## Condicionales"
   ]
  },
  {
   "cell_type": "code",
   "execution_count": 75,
   "id": "b13b6864",
   "metadata": {},
   "outputs": [],
   "source": [
    "if x > 3:\n",
    "    print(\"Esto no se debería imprimir\")\n",
    "    print(\"Nota ques muy peligroso hacer esto con flotantes...\")\n",
    "    "
   ]
  },
  {
   "cell_type": "code",
   "execution_count": 76,
   "id": "df6c0af3",
   "metadata": {},
   "outputs": [],
   "source": [
    "x = 5"
   ]
  },
  {
   "cell_type": "code",
   "execution_count": 77,
   "id": "b488ef05",
   "metadata": {},
   "outputs": [
    {
     "name": "stdout",
     "output_type": "stream",
     "text": [
      "Esto sí debería imprimirse.\n"
     ]
    }
   ],
   "source": [
    "if x > 3:\n",
    "    print(\"Esto sí debería imprimirse.\")"
   ]
  },
  {
   "cell_type": "code",
   "execution_count": 78,
   "id": "b7ba3670",
   "metadata": {},
   "outputs": [
    {
     "data": {
      "text/plain": [
       "False"
      ]
     },
     "execution_count": 78,
     "metadata": {},
     "output_type": "execute_result"
    }
   ],
   "source": [
    "x == 1"
   ]
  },
  {
   "cell_type": "code",
   "execution_count": 79,
   "id": "f03d9d68",
   "metadata": {},
   "outputs": [
    {
     "data": {
      "text/plain": [
       "True"
      ]
     },
     "execution_count": 79,
     "metadata": {},
     "output_type": "execute_result"
    }
   ],
   "source": [
    "x > 1"
   ]
  },
  {
   "cell_type": "code",
   "execution_count": 80,
   "id": "961ae3e8",
   "metadata": {},
   "outputs": [
    {
     "data": {
      "text/plain": [
       "True"
      ]
     },
     "execution_count": 80,
     "metadata": {},
     "output_type": "execute_result"
    }
   ],
   "source": [
    "x >= 1"
   ]
  },
  {
   "cell_type": "code",
   "execution_count": 81,
   "id": "6b9e1abd",
   "metadata": {},
   "outputs": [
    {
     "data": {
      "text/plain": [
       "True"
      ]
     },
     "execution_count": 81,
     "metadata": {},
     "output_type": "execute_result"
    }
   ],
   "source": [
    "x != 1"
   ]
  },
  {
   "cell_type": "code",
   "execution_count": 82,
   "id": "dea68e7c",
   "metadata": {},
   "outputs": [
    {
     "data": {
      "text/plain": [
       "True"
      ]
     },
     "execution_count": 82,
     "metadata": {},
     "output_type": "execute_result"
    }
   ],
   "source": [
    "(x > 10) or (x <= 5)"
   ]
  },
  {
   "cell_type": "code",
   "execution_count": 83,
   "id": "3b92f380",
   "metadata": {},
   "outputs": [
    {
     "data": {
      "text/plain": [
       "False"
      ]
     },
     "execution_count": 83,
     "metadata": {},
     "output_type": "execute_result"
    }
   ],
   "source": [
    "(x > 10) & (x <= 5)"
   ]
  },
  {
   "cell_type": "code",
   "execution_count": 84,
   "id": "8cb61837",
   "metadata": {},
   "outputs": [
    {
     "name": "stdout",
     "output_type": "stream",
     "text": [
      "5\n"
     ]
    }
   ],
   "source": [
    "print(x)"
   ]
  },
  {
   "cell_type": "code",
   "execution_count": 85,
   "id": "5bdd9cfc",
   "metadata": {},
   "outputs": [
    {
     "name": "stdout",
     "output_type": "stream",
     "text": [
      "¡Hola!\n"
     ]
    }
   ],
   "source": [
    "if x >= 5 and x < 10:\n",
    "    print(u\"¡Hola!\")\n",
    "else:\n",
    "    print(u\"Nunca me verás\")"
   ]
  },
  {
   "cell_type": "code",
   "execution_count": 86,
   "id": "03295f38",
   "metadata": {},
   "outputs": [
    {
     "name": "stdout",
     "output_type": "stream",
     "text": [
      "¡Hola!\n"
     ]
    }
   ],
   "source": [
    "if x >= 5 & x < 10:\n",
    "    print(u\"¡Hola!\")\n",
    "else:\n",
    "    print(u\"Nunca me verás\")"
   ]
  },
  {
   "cell_type": "markdown",
   "id": "6df19433",
   "metadata": {},
   "source": [
    "## Bucles\n",
    "\n",
    "Los bucles `for` en python utilizan *iteradores*:"
   ]
  },
  {
   "cell_type": "code",
   "execution_count": 87,
   "id": "6ad3a436",
   "metadata": {},
   "outputs": [
    {
     "name": "stdout",
     "output_type": "stream",
     "text": [
      "1\n",
      "2\n",
      "3\n",
      "4\n",
      "5\n"
     ]
    }
   ],
   "source": [
    "for i in (1,2,3,4,5):\n",
    "    print(i)"
   ]
  },
  {
   "cell_type": "code",
   "execution_count": 88,
   "id": "333f5722",
   "metadata": {},
   "outputs": [
    {
     "name": "stdout",
     "output_type": "stream",
     "text": [
      "H\n",
      "o\n",
      "l\n",
      "a\n",
      ",\n",
      " \n",
      "¿\n",
      "c\n",
      "ó\n",
      "m\n",
      "o\n",
      " \n",
      "e\n",
      "s\n",
      "t\n",
      "á\n",
      "s\n",
      "?\n"
     ]
    }
   ],
   "source": [
    "for x in u\"Hola, ¿cómo estás?\":\n",
    "    print(x)"
   ]
  },
  {
   "cell_type": "code",
   "execution_count": 90,
   "id": "e4bde07a",
   "metadata": {},
   "outputs": [
    {
     "name": "stdout",
     "output_type": "stream",
     "text": [
      "1\n",
      "2\n",
      "3\n",
      "4\n",
      "5\n"
     ]
    }
   ],
   "source": [
    "i = 1 #Solo funciona \"and\", no \"&\"\n",
    "\n",
    "while i > 0 and i <= 5:\n",
    "    print(i)\n",
    "    i += 1"
   ]
  },
  {
   "cell_type": "code",
   "execution_count": 91,
   "id": "a4b33a86",
   "metadata": {},
   "outputs": [
    {
     "name": "stdout",
     "output_type": "stream",
     "text": [
      "1\n",
      "4\n",
      "7\n",
      "10\n",
      "13\n",
      "16\n",
      "19\n",
      "22\n",
      "25\n",
      "28\n",
      "31\n"
     ]
    }
   ],
   "source": [
    "for i in range(1,34,3):\n",
    "    print(i)"
   ]
  },
  {
   "cell_type": "code",
   "execution_count": 122,
   "id": "ccbb2cce",
   "metadata": {},
   "outputs": [
    {
     "name": "stdout",
     "output_type": "stream",
     "text": [
      "1.6439335666815615\n"
     ]
    }
   ],
   "source": [
    "a = 0\n",
    "for k in range(1,1000,1):\n",
    "    a += (1/k)**2\n",
    "print(a)"
   ]
  },
  {
   "cell_type": "code",
   "execution_count": 123,
   "id": "86cb4eb7",
   "metadata": {},
   "outputs": [
    {
     "data": {
      "text/plain": [
       "1.6439335666815615"
      ]
     },
     "execution_count": 123,
     "metadata": {},
     "output_type": "execute_result"
    }
   ],
   "source": [
    "sum([(1/k)**2 for k in range(1,1000,1)])"
   ]
  },
  {
   "cell_type": "markdown",
   "id": "4196521d",
   "metadata": {},
   "source": [
    "## Estructuras de datos *built-in*"
   ]
  },
  {
   "cell_type": "code",
   "execution_count": 93,
   "id": "dcc0a891",
   "metadata": {},
   "outputs": [
    {
     "data": {
      "text/plain": [
       "[1, 2, 3, 4, 5]"
      ]
     },
     "execution_count": 93,
     "metadata": {},
     "output_type": "execute_result"
    }
   ],
   "source": [
    "a_list = [1, 2, 3, 4, 5]\n",
    "a_list"
   ]
  },
  {
   "cell_type": "code",
   "execution_count": 94,
   "id": "64b84980",
   "metadata": {},
   "outputs": [
    {
     "data": {
      "text/plain": [
       "[1, 1.3, 4.5, (2+1j), [1, 2]]"
      ]
     },
     "execution_count": 94,
     "metadata": {},
     "output_type": "execute_result"
    }
   ],
   "source": [
    "another_list = [1, 1.3, 4.5, 2+1j, [1,2]]\n",
    "another_list"
   ]
  },
  {
   "cell_type": "code",
   "execution_count": 95,
   "id": "89e1fc17",
   "metadata": {},
   "outputs": [
    {
     "data": {
      "text/plain": [
       "4"
      ]
     },
     "execution_count": 95,
     "metadata": {},
     "output_type": "execute_result"
    }
   ],
   "source": [
    "a_list[3]"
   ]
  },
  {
   "cell_type": "code",
   "execution_count": 96,
   "id": "68342e45",
   "metadata": {},
   "outputs": [
    {
     "data": {
      "text/plain": [
       "(2+1j)"
      ]
     },
     "execution_count": 96,
     "metadata": {},
     "output_type": "execute_result"
    }
   ],
   "source": [
    "another_list[3] #Muestra el elemento número tres de la lista, contando desde 0."
   ]
  },
  {
   "cell_type": "code",
   "execution_count": 97,
   "id": "b7c1357d",
   "metadata": {},
   "outputs": [
    {
     "data": {
      "text/plain": [
       "[1, 2]"
      ]
     },
     "execution_count": 97,
     "metadata": {},
     "output_type": "execute_result"
    }
   ],
   "source": [
    "another_list[4]"
   ]
  },
  {
   "cell_type": "code",
   "execution_count": 98,
   "id": "93a908af",
   "metadata": {},
   "outputs": [
    {
     "data": {
      "text/plain": [
       "5"
      ]
     },
     "execution_count": 98,
     "metadata": {},
     "output_type": "execute_result"
    }
   ],
   "source": [
    "a_list[-1] #Muestra el último elemento de la lista"
   ]
  },
  {
   "cell_type": "code",
   "execution_count": 99,
   "id": "461a6293",
   "metadata": {},
   "outputs": [
    {
     "data": {
      "text/plain": [
       "4"
      ]
     },
     "execution_count": 99,
     "metadata": {},
     "output_type": "execute_result"
    }
   ],
   "source": [
    "a_list[-2] #Muestra un elemento anterior al último"
   ]
  },
  {
   "cell_type": "code",
   "execution_count": 100,
   "id": "436b07cc",
   "metadata": {},
   "outputs": [
    {
     "data": {
      "text/plain": [
       "[2, 3, 4, 5]"
      ]
     },
     "execution_count": 100,
     "metadata": {},
     "output_type": "execute_result"
    }
   ],
   "source": [
    "a_list[1:] #Muestra los elementos a partir del 1"
   ]
  },
  {
   "cell_type": "code",
   "execution_count": 101,
   "id": "2963e412",
   "metadata": {},
   "outputs": [
    {
     "data": {
      "text/plain": [
       "[3, 4]"
      ]
     },
     "execution_count": 101,
     "metadata": {},
     "output_type": "execute_result"
    }
   ],
   "source": [
    "a_list[2:4] #Muestra los elementos de la posición 2 a la 4, sin incluir la posición 4."
   ]
  },
  {
   "cell_type": "code",
   "execution_count": 102,
   "id": "f09e777e",
   "metadata": {},
   "outputs": [
    {
     "data": {
      "text/plain": [
       "[1, 2, 3, 4]"
      ]
     },
     "execution_count": 102,
     "metadata": {},
     "output_type": "execute_result"
    }
   ],
   "source": [
    "a_list[:4] #Muestra todos los elementos antes de la posición 4. "
   ]
  },
  {
   "cell_type": "code",
   "execution_count": 103,
   "id": "c283c4cb",
   "metadata": {},
   "outputs": [],
   "source": [
    "n = 5"
   ]
  },
  {
   "cell_type": "code",
   "execution_count": 104,
   "id": "bd5480e9",
   "metadata": {},
   "outputs": [
    {
     "data": {
      "text/plain": [
       "[1, 2, 3, 4, 5, 5]"
      ]
     },
     "execution_count": 104,
     "metadata": {},
     "output_type": "execute_result"
    }
   ],
   "source": [
    "a_list.append(n) #Agrega el elemento n al final de la lista\n",
    "a_list"
   ]
  },
  {
   "cell_type": "code",
   "execution_count": 106,
   "id": "cadea37b",
   "metadata": {},
   "outputs": [
    {
     "data": {
      "text/plain": [
       "5"
      ]
     },
     "execution_count": 106,
     "metadata": {},
     "output_type": "execute_result"
    }
   ],
   "source": [
    "a_list.pop() #Quita el último elemento de la lista"
   ]
  },
  {
   "cell_type": "code",
   "execution_count": 107,
   "id": "20b60522",
   "metadata": {},
   "outputs": [
    {
     "data": {
      "text/plain": [
       "[1, 2, 3, 4, 5]"
      ]
     },
     "execution_count": 107,
     "metadata": {},
     "output_type": "execute_result"
    }
   ],
   "source": [
    "a_list"
   ]
  },
  {
   "cell_type": "code",
   "execution_count": 108,
   "id": "d48a4d9d",
   "metadata": {},
   "outputs": [],
   "source": [
    "a_list.append(3)\n",
    "a_list[1] = 3 #Cambia el elemento 1 por el valor 3\n",
    "a_list.append(5)"
   ]
  },
  {
   "cell_type": "code",
   "execution_count": 109,
   "id": "d7b95bef",
   "metadata": {},
   "outputs": [
    {
     "data": {
      "text/plain": [
       "[1, 3, 3, 4, 5, 3, 5]"
      ]
     },
     "execution_count": 109,
     "metadata": {},
     "output_type": "execute_result"
    }
   ],
   "source": [
    "a_list"
   ]
  },
  {
   "cell_type": "code",
   "execution_count": 110,
   "id": "9710150a",
   "metadata": {},
   "outputs": [
    {
     "data": {
      "text/plain": [
       "[1, 3, 4, 5, 3, 5]"
      ]
     },
     "execution_count": 110,
     "metadata": {},
     "output_type": "execute_result"
    }
   ],
   "source": [
    "a_list.remove(3)\n",
    "a_list"
   ]
  },
  {
   "cell_type": "code",
   "execution_count": 111,
   "id": "ccbb6be1",
   "metadata": {},
   "outputs": [],
   "source": [
    "a_list.remove?"
   ]
  },
  {
   "cell_type": "markdown",
   "id": "79cde1c0",
   "metadata": {},
   "source": [
    "`<Nombre_lista>.remove(<valor_del_elemento>)` es un comando que elimina la primera posición cuyo valor coincida con el `<valor_del_elemento>`."
   ]
  },
  {
   "cell_type": "code",
   "execution_count": 112,
   "id": "6f277ac9",
   "metadata": {},
   "outputs": [
    {
     "name": "stdout",
     "output_type": "stream",
     "text": [
      "1\n",
      "3\n",
      "4\n",
      "5\n",
      "3\n",
      "5\n"
     ]
    }
   ],
   "source": [
    "for element in a_list:\n",
    "    print(element)"
   ]
  },
  {
   "cell_type": "code",
   "execution_count": 113,
   "id": "e038faec",
   "metadata": {},
   "outputs": [
    {
     "name": "stdout",
     "output_type": "stream",
     "text": [
      "0\n",
      "1\n",
      "2\n",
      "3\n",
      "4\n"
     ]
    }
   ],
   "source": [
    "for r in range(5):\n",
    "    print(r)"
   ]
  },
  {
   "cell_type": "code",
   "execution_count": 124,
   "id": "d07c148d",
   "metadata": {},
   "outputs": [
    {
     "ename": "AttributeError",
     "evalue": "'list' object has no attribute 'expand'",
     "output_type": "error",
     "traceback": [
      "\u001b[0;31m---------------------------------------------------------------------------\u001b[0m",
      "\u001b[0;31mAttributeError\u001b[0m                            Traceback (most recent call last)",
      "\u001b[0;32m/tmp/ipykernel_141/483994569.py\u001b[0m in \u001b[0;36m<module>\u001b[0;34m\u001b[0m\n\u001b[0;32m----> 1\u001b[0;31m \u001b[0mprint\u001b[0m\u001b[0;34m(\u001b[0m\u001b[0ma_list\u001b[0m\u001b[0;34m.\u001b[0m\u001b[0mexpand\u001b[0m\u001b[0;34m(\u001b[0m\u001b[0manother_list\u001b[0m\u001b[0;34m)\u001b[0m\u001b[0;34m)\u001b[0m\u001b[0;34m\u001b[0m\u001b[0;34m\u001b[0m\u001b[0m\n\u001b[0m",
      "\u001b[0;31mAttributeError\u001b[0m: 'list' object has no attribute 'expand'"
     ]
    }
   ],
   "source": [
    "print(a_list.expand(another_list))"
   ]
  },
  {
   "cell_type": "code",
   "execution_count": 125,
   "id": "0998af25",
   "metadata": {},
   "outputs": [
    {
     "name": "stdout",
     "output_type": "stream",
     "text": [
      "None\n"
     ]
    }
   ],
   "source": [
    "print(a_list.extend(another_list))"
   ]
  },
  {
   "cell_type": "code",
   "execution_count": 126,
   "id": "1b151d0a",
   "metadata": {},
   "outputs": [],
   "source": [
    "a_list.extend(another_list)"
   ]
  },
  {
   "cell_type": "code",
   "execution_count": 127,
   "id": "981d147c",
   "metadata": {},
   "outputs": [
    {
     "name": "stdout",
     "output_type": "stream",
     "text": [
      "[1, 3, 4, 5, 3, 5, 1, 1.3, 4.5, (2+1j), [1, 2], 1, 1.3, 4.5, (2+1j), [1, 2]]\n"
     ]
    }
   ],
   "source": [
    "print(a_list)"
   ]
  },
  {
   "cell_type": "code",
   "execution_count": 128,
   "id": "56ed7ac9",
   "metadata": {},
   "outputs": [
    {
     "data": {
      "text/plain": [
       "[1, 2]"
      ]
     },
     "execution_count": 128,
     "metadata": {},
     "output_type": "execute_result"
    }
   ],
   "source": [
    "a_list.pop()"
   ]
  },
  {
   "cell_type": "markdown",
   "id": "d0b1fdf0",
   "metadata": {},
   "source": [
    "## Diccionarios"
   ]
  },
  {
   "cell_type": "code",
   "execution_count": 129,
   "id": "e1ac6137",
   "metadata": {},
   "outputs": [
    {
     "data": {
      "text/plain": [
       "dict_keys(['a', 'b', 'coral'])"
      ]
     },
     "execution_count": 129,
     "metadata": {},
     "output_type": "execute_result"
    }
   ],
   "source": [
    "diccionario = {'a':1, 'b':2, 'coral':'amarillo'}\n",
    "diccionario.keys()"
   ]
  },
  {
   "cell_type": "code",
   "execution_count": 130,
   "id": "19caad4a",
   "metadata": {},
   "outputs": [
    {
     "data": {
      "text/plain": [
       "1"
      ]
     },
     "execution_count": 130,
     "metadata": {},
     "output_type": "execute_result"
    }
   ],
   "source": [
    "diccionario['a']"
   ]
  },
  {
   "cell_type": "code",
   "execution_count": 133,
   "id": "c048004e",
   "metadata": {},
   "outputs": [
    {
     "data": {
      "text/plain": [
       "{'a': 1, 'b': 2, 'coral': 'amarillo', 'c': 3}"
      ]
     },
     "execution_count": 133,
     "metadata": {},
     "output_type": "execute_result"
    }
   ],
   "source": [
    "diccionario['c'] = 3 #Agregar un elemento\n",
    "diccionario"
   ]
  },
  {
   "cell_type": "code",
   "execution_count": 134,
   "id": "06f8574b",
   "metadata": {},
   "outputs": [
    {
     "data": {
      "text/plain": [
       "{'b': 2, 'coral': 'amarillo', 'c': 3}"
      ]
     },
     "execution_count": 134,
     "metadata": {},
     "output_type": "execute_result"
    }
   ],
   "source": [
    "diccionario.pop('a')\n",
    "diccionario"
   ]
  },
  {
   "cell_type": "code",
   "execution_count": 135,
   "id": "89135070",
   "metadata": {},
   "outputs": [
    {
     "data": {
      "text/plain": [
       "[2, 'amarillo', 3]"
      ]
     },
     "execution_count": 135,
     "metadata": {},
     "output_type": "execute_result"
    }
   ],
   "source": [
    "[i for i in diccionario.values()]"
   ]
  },
  {
   "cell_type": "markdown",
   "id": "99f9ae5c",
   "metadata": {},
   "source": [
    "## Funciones"
   ]
  },
  {
   "cell_type": "code",
   "execution_count": 140,
   "id": "072d96c5",
   "metadata": {},
   "outputs": [
    {
     "name": "stdout",
     "output_type": "stream",
     "text": [
      "Writing transformaciones.py\n"
     ]
    }
   ],
   "source": [
    "%%file transformaciones.py\n",
    "from math import sqrt, atan\n",
    "\n",
    "def esfericas(x,y,z):\n",
    "    \"\"\"\n",
    "    x, y, z se encuentran en...\n",
    "    \"\"\"\n",
    "    r = sqrt(x**2 + y**2 + z**2)\n",
    "    theta = atan(y/x)\n",
    "    fi = sqrt(x**2 + y**2)/z\n",
    "    return r, theta, fi"
   ]
  },
  {
   "cell_type": "code",
   "execution_count": 138,
   "id": "9c95e61b",
   "metadata": {},
   "outputs": [],
   "source": [
    "esfericas?"
   ]
  },
  {
   "cell_type": "code",
   "execution_count": 139,
   "id": "f26761c0",
   "metadata": {},
   "outputs": [
    {
     "name": "stdout",
     "output_type": "stream",
     "text": [
      "La coordenada r es:  3.7416573867739413\n",
      "La coordenada theta es:  1.1071487177940904\n",
      "La coordenada fi es:  0.7453559924999299\n"
     ]
    }
   ],
   "source": [
    "r, theta, fi = esfericas(1,2,3)\n",
    "print(\"La coordenada r es: \", r)\n",
    "print(\"La coordenada theta es: \", theta)\n",
    "print(\"La coordenada fi es: \", fi)"
   ]
  },
  {
   "cell_type": "code",
   "execution_count": null,
   "id": "4d91d981",
   "metadata": {},
   "outputs": [],
   "source": []
  }
 ],
 "metadata": {
  "kernelspec": {
   "display_name": "Python 3 (ipykernel)",
   "language": "python",
   "name": "python3"
  },
  "language_info": {
   "codemirror_mode": {
    "name": "ipython",
    "version": 3
   },
   "file_extension": ".py",
   "mimetype": "text/x-python",
   "name": "python",
   "nbconvert_exporter": "python",
   "pygments_lexer": "ipython3",
   "version": "3.9.6"
  }
 },
 "nbformat": 4,
 "nbformat_minor": 5
}
