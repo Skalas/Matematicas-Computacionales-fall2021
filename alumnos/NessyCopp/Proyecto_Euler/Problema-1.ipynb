{
 "cells": [
  {
   "cell_type": "markdown",
   "id": "7640b20a",
   "metadata": {},
   "source": [
    "# Proyecto Euler: problema 1\n",
    "\n",
    "Encontrar la suma de todos los múltiplos de 3 o 5 debajo de 1000."
   ]
  },
  {
   "cell_type": "markdown",
   "id": "cf070e62",
   "metadata": {},
   "source": [
    "## Prueba"
   ]
  },
  {
   "cell_type": "code",
   "execution_count": 5,
   "id": "775c9d19",
   "metadata": {},
   "outputs": [
    {
     "name": "stdout",
     "output_type": "stream",
     "text": [
      "23\n"
     ]
    }
   ],
   "source": [
    "x = 0\n",
    "for i in range(1,10):\n",
    "    if i%3 == 0 or i%5 == 0:\n",
    "        x += i\n",
    "print(x)"
   ]
  },
  {
   "cell_type": "markdown",
   "id": "b2db05cb",
   "metadata": {},
   "source": [
    "Prueba del rango del 1 al 10 con los múltiplos de 3 y 5. "
   ]
  },
  {
   "cell_type": "markdown",
   "id": "b011b640",
   "metadata": {},
   "source": [
    "## Solución del problema 1"
   ]
  },
  {
   "cell_type": "code",
   "execution_count": 6,
   "id": "7e752b8a",
   "metadata": {},
   "outputs": [
    {
     "name": "stdout",
     "output_type": "stream",
     "text": [
      "233168\n"
     ]
    }
   ],
   "source": [
    "y = 0 \n",
    "for i in range(1,1000):\n",
    "    if i%3 == 0 or i%5 == 0:\n",
    "        y += i\n",
    "print(y)"
   ]
  },
  {
   "cell_type": "code",
   "execution_count": null,
   "id": "3f28bdaa",
   "metadata": {},
   "outputs": [],
   "source": []
  }
 ],
 "metadata": {
  "kernelspec": {
   "display_name": "Python 3 (ipykernel)",
   "language": "python",
   "name": "python3"
  },
  "language_info": {
   "codemirror_mode": {
    "name": "ipython",
    "version": 3
   },
   "file_extension": ".py",
   "mimetype": "text/x-python",
   "name": "python",
   "nbconvert_exporter": "python",
   "pygments_lexer": "ipython3",
   "version": "3.9.6"
  }
 },
 "nbformat": 4,
 "nbformat_minor": 5
}
