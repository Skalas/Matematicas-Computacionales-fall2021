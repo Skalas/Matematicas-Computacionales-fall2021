{
 "cells": [
  {
   "cell_type": "markdown",
   "id": "e65a5672",
   "metadata": {},
   "source": [
    "# Proyecto Euler: problema 2\n",
    "\n",
    "Considerando los términos de la sucesión de Fibonacci cuyo valor no excede los cuatro millones, encontrar la suma de los números impares. "
   ]
  },
  {
   "cell_type": "code",
   "execution_count": 26,
   "id": "cc4af15e",
   "metadata": {},
   "outputs": [],
   "source": [
    "def Fibonacci(n) :\n",
    "    \"\"\"La función devuelve una lista con los elementos de la sucesión\n",
    "    de Fibonacci menores o iguales a n.\"\"\"\n",
    "    Ls_Fibo = [0,1]\n",
    "    i = 2\n",
    "    while Ls_Fibo[-1] <= n:\n",
    "        x = Ls_Fibo[i-2] + Ls_Fibo[i-1]\n",
    "        Ls_Fibo.append(x)\n",
    "        i += 1\n",
    "    Ls_Fibo.pop()\n",
    "    return Ls_Fibo\n",
    "    "
   ]
  },
  {
   "cell_type": "code",
   "execution_count": 35,
   "id": "c94e884d",
   "metadata": {
    "scrolled": true
   },
   "outputs": [
    {
     "data": {
      "text/plain": [
       "[0,\n",
       " 1,\n",
       " 1,\n",
       " 2,\n",
       " 3,\n",
       " 5,\n",
       " 8,\n",
       " 13,\n",
       " 21,\n",
       " 34,\n",
       " 55,\n",
       " 89,\n",
       " 144,\n",
       " 233,\n",
       " 377,\n",
       " 610,\n",
       " 987,\n",
       " 1597,\n",
       " 2584,\n",
       " 4181,\n",
       " 6765,\n",
       " 10946,\n",
       " 17711,\n",
       " 28657,\n",
       " 46368,\n",
       " 75025,\n",
       " 121393,\n",
       " 196418,\n",
       " 317811,\n",
       " 514229,\n",
       " 832040,\n",
       " 1346269,\n",
       " 2178309,\n",
       " 3524578]"
      ]
     },
     "execution_count": 35,
     "metadata": {},
     "output_type": "execute_result"
    }
   ],
   "source": [
    "Fibonacci(4000000)"
   ]
  },
  {
   "cell_type": "markdown",
   "id": "28bf9add",
   "metadata": {},
   "source": [
    "La función de Fibonacci devolverá una lista con los números de la sucesión. "
   ]
  },
  {
   "cell_type": "markdown",
   "id": "bb351b68",
   "metadata": {},
   "source": [
    "## Solución del problema"
   ]
  },
  {
   "cell_type": "code",
   "execution_count": 55,
   "id": "b09adfc7",
   "metadata": {
    "scrolled": false
   },
   "outputs": [
    {
     "data": {
      "text/plain": [
       "[0,\n",
       " 1,\n",
       " 1,\n",
       " 2,\n",
       " 3,\n",
       " 5,\n",
       " 8,\n",
       " 13,\n",
       " 21,\n",
       " 34,\n",
       " 55,\n",
       " 89,\n",
       " 144,\n",
       " 233,\n",
       " 377,\n",
       " 610,\n",
       " 987,\n",
       " 1597,\n",
       " 2584,\n",
       " 4181,\n",
       " 6765,\n",
       " 10946,\n",
       " 17711,\n",
       " 28657,\n",
       " 46368,\n",
       " 75025,\n",
       " 121393,\n",
       " 196418,\n",
       " 317811,\n",
       " 514229,\n",
       " 832040,\n",
       " 1346269,\n",
       " 2178309,\n",
       " 3524578]"
      ]
     },
     "execution_count": 55,
     "metadata": {},
     "output_type": "execute_result"
    }
   ],
   "source": [
    "Fib_M4 = Fibonacci(4000000)\n",
    "Fib_M4"
   ]
  },
  {
   "cell_type": "markdown",
   "id": "ef7f6d76",
   "metadata": {},
   "source": [
    "Esta es una lista de la sucesión de Fibonacci con números menores a *4 000 000*. A continuación se utiliza una función para hacer la suma de los *números impares* en la lista."
   ]
  },
  {
   "cell_type": "code",
   "execution_count": 56,
   "id": "c2af1c74",
   "metadata": {},
   "outputs": [],
   "source": [
    "def SumaImpar(Lista) :\n",
    "    \"\"\"Se introduce una lista de números enteros, regresa una suma de los\n",
    "    números impares de la lista.\"\"\"\n",
    "    x = 0\n",
    "    Lista_Impar = []\n",
    "    for i in range(0, len(Lista)):\n",
    "        if Lista[i]%2 != 0:\n",
    "            x += Lista[i]\n",
    "            Lista_Impar.append(Lista[i])\n",
    "    return x, Lista_Impar\n",
    "\n",
    "    "
   ]
  },
  {
   "cell_type": "code",
   "execution_count": 57,
   "id": "c18cabc4",
   "metadata": {},
   "outputs": [],
   "source": [
    "Sol = SumaImpar(Fib_M4)"
   ]
  },
  {
   "cell_type": "code",
   "execution_count": 58,
   "id": "4ca2c9e0",
   "metadata": {},
   "outputs": [
    {
     "name": "stdout",
     "output_type": "stream",
     "text": [
      "La solución al problema. Es decir, la suma de\n",
      "los números impares en la sucesión de Fibonacci\n",
      "con números menores a 4 000 000 es:\n",
      " 4613732\n"
     ]
    }
   ],
   "source": [
    "print(\"La solución al problema. Es decir, la suma de\\nlos números impares en la sucesión de Fibonacci\\ncon números menores a 4 000 000 es:\\n\", Sol[0])"
   ]
  },
  {
   "cell_type": "code",
   "execution_count": null,
   "id": "6f092f45",
   "metadata": {},
   "outputs": [],
   "source": []
  }
 ],
 "metadata": {
  "kernelspec": {
   "display_name": "Python 3 (ipykernel)",
   "language": "python",
   "name": "python3"
  },
  "language_info": {
   "codemirror_mode": {
    "name": "ipython",
    "version": 3
   },
   "file_extension": ".py",
   "mimetype": "text/x-python",
   "name": "python",
   "nbconvert_exporter": "python",
   "pygments_lexer": "ipython3",
   "version": "3.9.6"
  }
 },
 "nbformat": 4,
 "nbformat_minor": 5
}
